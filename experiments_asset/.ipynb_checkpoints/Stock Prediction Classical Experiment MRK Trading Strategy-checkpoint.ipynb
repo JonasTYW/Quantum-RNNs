{
 "cells": [
  {
   "cell_type": "code",
   "execution_count": null,
   "id": "a33a1f56",
   "metadata": {},
   "outputs": [],
   "source": [
    "#import helper\n",
    "import pandas as pd\n",
    "#from utils import *\n",
    "\n",
    "import time\n",
    "import numpy as np\n",
    "import math\n",
    "import matplotlib.pyplot as plt\n",
    "\n",
    "import torch\n",
    "from torch.utils.data import DataLoader, Dataset\n",
    "from torch import nn\n",
    "\n",
    "from sklearn.decomposition import PCA\n",
    "\n",
    "from IPython.display import Image\n",
    "\n",
    "import pennylane as qml\n"
   ]
  },
  {
   "cell_type": "markdown",
   "id": "0dce35c5",
   "metadata": {},
   "source": [
    "# Introduction"
   ]
  },
  {
   "cell_type": "markdown",
   "id": "9eb7a535",
   "metadata": {},
   "source": [
    "Stock price prediction is one of the most rewarding problems in modern finance, where the accurate forecasting of future stock prices can yield significant profit and reduce the risks. LSTM (Long Short-Term Memory) is a recurrent Neural Network (RNN) applicable to a broad range of problems aiming to analyze or classify sequential data. Therefore, many people have used LSTM to predict the future stock price based on the historical data sequences with great success.\n",
    "\n",
    "On the other hand, recent studies have shown that the LSTM's efficiency and trainability can be improved by replacing some of the layers in the LSTM with variational quantum layers, thus making it a quantum-classical hybrid model of LSTM which we will call QLSTM for Quantum LSTM. In the study done by Samuel Yen-Chi Chen, Shinjae Yoo, and Yao-Lung L. Fang, they show that QLSTM offers better trainability compared to its classical counterpart as it proved to learn significantly more information after the first training epoch than its classical counterpart, learnt the local features better, all while having a comparable number of parameters. Inspired by these recent results, we proceed to test this variational quantum-classical hybrid neural network technique on stock price predictions. \n",
    "\n",
    "In the following notebook, we show a proof of concept that QLSTM can be used to great effect for stock price prediction, offering comparable and arguably better results than its classical counterpart. To do so, we implement both LSTM and QLSTM to predict the stock prices of the company Merck & Co. Inc (MRK) with the same number of features, of which we chose based on earlier studies done with stock price predictions."
   ]
  },
  {
   "cell_type": "markdown",
   "id": "922097fa",
   "metadata": {},
   "source": [
    "This submission was motivated by a combination of a few separate studies:\n",
    "\n",
    "Stock price prediction use BERT and GAN: https://arxiv.org/pdf/2107.09055.pdf, Priyank Sonkiya, Vikas Bajpai, Anukriti Bansal <br>\n",
    "Quantum Long Short-Term Memory: https://arxiv.org/pdf/2009.01783.pdf, Samuel Yen-Chi Chen, Shinjae Yoo, and Yao-Lung L. Fang <br>\n",
    "\n",
    "With code and ideas reused and repurposed from the following sources:\n",
    "\n",
    "Example of a QLSTM: https://github.com/rdisipio/qlstm, Riccardo Di Sipio <br>\n",
    "How to use PyTorch LSTMs for time series regression: https://www.crosstab.io/articles/time-series-pytorch-lstm, Brian Kent <br>\n",
    "Using GANs to predict stock price movement: https://towardsdatascience.com/aifortrading-2edd6fac689d, Boris Banushev<br>"
   ]
  },
  {
   "cell_type": "markdown",
   "id": "696bb7d7",
   "metadata": {},
   "source": [
    "## Brief Outline"
   ]
  },
  {
   "cell_type": "markdown",
   "id": "4e301a55",
   "metadata": {},
   "source": [
    "To demonstrate the use of QLSTM for stock prediction, we use the stock prices of the company Merck & Co. Inc (MRK). The notebook will proceed in the following manner:\n",
    "\n",
    "1. Brief description of Data\n",
    "2. Using Classical LSTM to perform stock price prediction\n",
    "3. Defining QLSTM and using it to perform stock price prediction\n",
    "4. Comparison between LSTM and QLSTM\n",
    "\n",
    "Note that for the LSTM, we would be using PyTorch; while for the QLSTM we would be using PyTorch and Pennylane. "
   ]
  },
  {
   "cell_type": "markdown",
   "id": "d7f50219",
   "metadata": {},
   "source": [
    "# Experimentation"
   ]
  },
  {
   "cell_type": "markdown",
   "id": "71976209",
   "metadata": {},
   "source": [
    "- weight decay coefficient (weight decay), \n",
    "- width of the layer (width), \n",
    "- mini-batch size (batch size), \n",
    "- learning rate (learning rate),\n",
    "- dropout probability (dropout), \n",
    "- depth of the architecture(depth) \n",
    "- the choice of the optimization algorithms (optimizer)"
   ]
  },
  {
   "cell_type": "markdown",
   "id": "41647415",
   "metadata": {},
   "source": [
    "number of iterations = batch_size * num_epochs"
   ]
  },
  {
   "cell_type": "code",
   "execution_count": null,
   "id": "6ef7a2d5",
   "metadata": {},
   "outputs": [],
   "source": [
    "batch_size = 1\n",
    "sequence_length = 3\n",
    "\n",
    "weight_decay_value = 0\n",
    "learning_rate = 0.0001\n",
    "\n",
    "num_hidden_units = 512"
   ]
  },
  {
   "cell_type": "code",
   "execution_count": null,
   "id": "15e3db2d",
   "metadata": {},
   "outputs": [],
   "source": []
  },
  {
   "cell_type": "code",
   "execution_count": null,
   "id": "490a96f8",
   "metadata": {},
   "outputs": [],
   "source": [
    "from torch.utils.tensorboard import SummaryWriter"
   ]
  },
  {
   "cell_type": "code",
   "execution_count": null,
   "id": "372111d5",
   "metadata": {},
   "outputs": [],
   "source": [
    "writer = SummaryWriter()"
   ]
  },
  {
   "cell_type": "markdown",
   "id": "8dcf2258",
   "metadata": {},
   "source": [
    "# Data"
   ]
  },
  {
   "cell_type": "markdown",
   "id": "841734de",
   "metadata": {},
   "source": [
    "To briefly describe the data, we have collected the historical data of the MRK stock prices, of which we focus on the closing price. Our goal is then to forecast the closing stock prices of MRK using LSTM (or QLSTM). \n",
    "\n",
    "To achieve this goal, we have collected the data and information we thought necessary and important. This includes the following:\n",
    "\n",
    "- Technical indicators\n",
    "- Trend approximations (Fourier Transforms)\n",
    "- ARIMA \n",
    "- Correlated assets\n",
    "- Sentimental analysis\n",
    "\n",
    "While interesting and important in its own right, we have decided not to go into detail for the data collection in this notebook. For more information, please go take a look at the Data Collection notebook also in this Github. \n",
    "\n",
    "In this section, our goal is to process the data to get it ready for the LSTM and QLSTM."
   ]
  },
  {
   "cell_type": "markdown",
   "id": "3b37e1ea",
   "metadata": {},
   "source": [
    "First, we read in the data, dropping the index and the date."
   ]
  },
  {
   "cell_type": "code",
   "execution_count": null,
   "id": "31c36071",
   "metadata": {},
   "outputs": [],
   "source": [
    "df = pd.read_csv('dataset_MRK_prediction.csv')\n",
    "df = df.drop(['Date' ,'Unnamed: 0'], axis=1)\n",
    "df"
   ]
  },
  {
   "cell_type": "markdown",
   "id": "4aaa9b52",
   "metadata": {},
   "source": [
    "We identify the dependent and independent variables:"
   ]
  },
  {
   "cell_type": "code",
   "execution_count": null,
   "id": "d53abe07",
   "metadata": {},
   "outputs": [],
   "source": [
    "target = \"Close_lead1\""
   ]
  },
  {
   "cell_type": "code",
   "execution_count": null,
   "id": "a8cedb86",
   "metadata": {},
   "outputs": [],
   "source": [
    "features = list(df.columns.difference([\"Close\", 'Close_lead1']))\n",
    "features"
   ]
  },
  {
   "cell_type": "markdown",
   "id": "a65613d0",
   "metadata": {},
   "source": [
    "## Data Processing"
   ]
  },
  {
   "cell_type": "markdown",
   "id": "0c7baf43",
   "metadata": {},
   "source": [
    "To process the data, we first split it into training and test data, where two-thirds of the data is used for training, and the last third is used for testing."
   ]
  },
  {
   "cell_type": "code",
   "execution_count": null,
   "id": "465d24a1",
   "metadata": {},
   "outputs": [],
   "source": [
    "size = int(len(df) * 0.67)\n",
    "\n",
    "df_train = df.loc[:size].copy()\n",
    "df_test = df.loc[size:].copy()"
   ]
  },
  {
   "cell_type": "markdown",
   "id": "dc621071",
   "metadata": {},
   "source": [
    "Next, in order to ensure that some values don't inherently dominate the features due to their magnitude, we standardize their values."
   ]
  },
  {
   "cell_type": "code",
   "execution_count": null,
   "id": "bff7d289",
   "metadata": {},
   "outputs": [],
   "source": [
    "target_mean = df_train[target].mean()\n",
    "target_stdev = df_train[target].std()\n",
    "\n",
    "for c in df_train.columns:\n",
    "    mean = df_train[c].mean()\n",
    "    stdev = df_train[c].std()\n",
    "\n",
    "    df_train[c] = (df_train[c] - mean) / stdev\n",
    "    df_test[c] = (df_test[c] - mean) / stdev"
   ]
  },
  {
   "cell_type": "code",
   "execution_count": null,
   "id": "134bb0c2",
   "metadata": {},
   "outputs": [],
   "source": [
    "class SequenceDataset(Dataset):\n",
    "    def __init__(self, dataframe, target, features, sequence_length=5):\n",
    "        self.features = features\n",
    "        self.target = target\n",
    "        self.sequence_length = sequence_length\n",
    "        self.y = torch.tensor(dataframe[self.target].values).float()\n",
    "        self.X = torch.tensor(dataframe[self.features].values).float()\n",
    "\n",
    "    def __len__(self):\n",
    "        return self.X.shape[0]\n",
    "\n",
    "    def __getitem__(self, i): \n",
    "        if i >= self.sequence_length - 1:\n",
    "            i_start = i - self.sequence_length + 1\n",
    "            x = self.X[i_start:(i + 1), :]\n",
    "        else:\n",
    "            padding = self.X[0].repeat(self.sequence_length - i - 1, 1)\n",
    "            x = self.X[0:(i + 1), :]\n",
    "            x = torch.cat((padding, x), 0)\n",
    "\n",
    "        return x, self.y[i]"
   ]
  },
  {
   "cell_type": "markdown",
   "id": "6e9b59fe",
   "metadata": {},
   "source": [
    "Finally, the last step in the data processing to prepare it for LSTM is to prepare the data in a sequence of past observations. Preparing LSTM on time series data means that it uses a certain number of past observations to predict the future. In this case, the sequence length decides how many days the LSTM considers in advance. If the sequence length is $n$, then the LSTM considers the last $n$ observations to predict the $n+1$th day.\n",
    "\n",
    "The sequence length we decided on is 3 for purposes of this notebook."
   ]
  },
  {
   "cell_type": "code",
   "execution_count": null,
   "id": "3029e88d",
   "metadata": {},
   "outputs": [],
   "source": [
    "torch.manual_seed(101)\n",
    "\n",
    "#batch_size = 10\n",
    "#sequence_length = 3\n",
    "\n",
    "train_dataset = SequenceDataset(\n",
    "    df_train,\n",
    "    target=target,\n",
    "    features=features,\n",
    "    sequence_length=sequence_length\n",
    ")\n",
    "test_dataset = SequenceDataset(\n",
    "    df_test,\n",
    "    target=target,\n",
    "    features=features,\n",
    "    sequence_length=sequence_length\n",
    ")\n",
    "\n",
    "train_loader = DataLoader(train_dataset, batch_size=batch_size, shuffle=True)\n",
    "test_loader = DataLoader(test_dataset, batch_size=batch_size, shuffle=False)\n",
    "\n",
    "X, y = next(iter(train_loader))\n",
    "\n",
    "print(\"Features shape:\", X.shape)\n",
    "print(\"Target shape:\", y.shape)"
   ]
  },
  {
   "cell_type": "code",
   "execution_count": null,
   "id": "dfa7dc4b",
   "metadata": {},
   "outputs": [],
   "source": [
    "i = 0\n",
    "for _ in train_loader:\n",
    "    i += 1 \n",
    "print(i)"
   ]
  },
  {
   "cell_type": "markdown",
   "id": "245af1d7",
   "metadata": {},
   "source": [
    "# Classical LSTM"
   ]
  },
  {
   "cell_type": "markdown",
   "id": "50a784bc",
   "metadata": {},
   "source": [
    "We first define two functions:\n",
    "    \n",
    "- train_model: function to train the model based on the batches of data\n",
    "- test_model: function to test the model on the testing data\n",
    "    \n",
    "For both, they print the loss at the end to let us know how the model is performing with regards to the data."
   ]
  },
  {
   "cell_type": "code",
   "execution_count": null,
   "id": "dbe496cd",
   "metadata": {},
   "outputs": [],
   "source": [
    "def train_model(data_loader, model, loss_function, optimizer):\n",
    "    num_batches = len(data_loader)\n",
    "    total_loss = 0\n",
    "    model.train()\n",
    "    \n",
    "    for X, y in data_loader:\n",
    "        output = model(X)\n",
    "        loss = loss_function(output, y)\n",
    "\n",
    "        optimizer.zero_grad()\n",
    "        loss.backward()\n",
    "        optimizer.step()\n",
    "\n",
    "        total_loss += loss.item()\n",
    "\n",
    "    avg_loss = total_loss / num_batches\n",
    "    print(f\"Train loss: {avg_loss}\")\n",
    "    return avg_loss\n",
    "\n",
    "def test_model(data_loader, model, loss_function):\n",
    "    \n",
    "    num_batches = len(data_loader)\n",
    "    total_loss = 0\n",
    "\n",
    "    model.eval()\n",
    "    with torch.no_grad():\n",
    "        for X, y in data_loader:\n",
    "            output = model(X)\n",
    "            total_loss += loss_function(output, y).item()\n",
    "\n",
    "    avg_loss = total_loss / num_batches\n",
    "    print(f\"Test loss: {avg_loss}\")\n",
    "    return avg_loss"
   ]
  },
  {
   "cell_type": "markdown",
   "id": "8dd5d66a",
   "metadata": {},
   "source": [
    "## Running the Classical LSTM"
   ]
  },
  {
   "cell_type": "markdown",
   "id": "8dd7aabb",
   "metadata": {},
   "source": [
    "To understand how we implemented QLSTM, we have to first understand how we implemented LSTM. LSTM follows the following structure:\n",
    "\n",
    "<img src=\"lstm2.jpg\" alt=\"drawing\" width=\"400\"/>\n",
    "\n",
    "Image taken from: Quantum Long Short-Term Memory, https://arxiv.org/pdf/2009.01783.pdf. By Samuel Yen-Chi Chen, Shinjae Yoo, and Yao-Lung L. Fang\n",
    "\n",
    "Simply put, LSTM uses 4 neural network layers in each LSTM cell to perform its functions. They are:\n",
    "\n",
    "- Forget layer\n",
    "- Input layer\n",
    "- Update layer\n",
    "- Output layer\n",
    "\n",
    "You can see the corresponding layers in the W cells in the picture above. We will be skipping the technical details, as you can find better information on the theory elsewhere, but it is important to note that these 4 layers are the key to building an LSTM neural network model that we can train and eventually use to predict, and usually take the form of a normal NN layer (like a linear layer with reLU or convolutional layers).\n",
    "\n",
    "LSTMs are well studied, and there is a native implementation of it in PyTorch to begin with, so we use a slightly modified version of it for the time series LSTM that we perform here. The code for the time series LSTM was reused from:\n",
    "\n",
    "How to use PyTorch LSTMs for time series regression: https://www.crosstab.io/articles/time-series-pytorch-lstm, Brian Kent.\n",
    "\n",
    "In the following code, we train LSTM to predict future stock prices, and then test it on the test dataset. The learning rate of 0.0001 was decided after some experimentation, where we chose the learning rate that most reliably gave accurate results. The number of epochs we use is 20, by which it would have converged and thus would suffice for the purposes of this notebook. After that, we proceed to see 3 different graphs: the comparison between the real stock prices and the ones given by the model; and the evolution of test loss and training loss by epoch."
   ]
  },
  {
   "cell_type": "markdown",
   "id": "474fc107",
   "metadata": {},
   "source": [
    "# Experimentation"
   ]
  },
  {
   "cell_type": "code",
   "execution_count": null,
   "id": "1b0568ab",
   "metadata": {},
   "outputs": [],
   "source": [
    "class ShallowRegressionLSTM(nn.Module):\n",
    "    def __init__(self, num_sensors, hidden_units):\n",
    "        super().__init__()\n",
    "        self.num_sensors = num_sensors  # this is the number of features\n",
    "        self.hidden_units = hidden_units\n",
    "        self.num_layers = 1\n",
    "\n",
    "        self.lstm = nn.LSTM(\n",
    "            input_size=num_sensors,\n",
    "            hidden_size=hidden_units,\n",
    "            batch_first=True,\n",
    "            num_layers=self.num_layers\n",
    "        )\n",
    "\n",
    "        self.linear = nn.Linear(in_features=self.hidden_units, out_features=1)\n",
    "\n",
    "    def forward(self, x):\n",
    "        batch_size = x.shape[0]\n",
    "        h0 = torch.zeros(self.num_layers, batch_size, self.hidden_units).requires_grad_()\n",
    "        c0 = torch.zeros(self.num_layers, batch_size, self.hidden_units).requires_grad_()\n",
    "        \n",
    "        _, (hn, _) = self.lstm(x, (h0, c0))\n",
    "        out = self.linear(hn[0]).flatten()  # First dim of Hn is num_layers, which is set to 1 above.\n",
    "\n",
    "        return out"
   ]
  },
  {
   "cell_type": "code",
   "execution_count": null,
   "id": "2a758f02",
   "metadata": {},
   "outputs": [],
   "source": [
    "#learning_rate = 0.0001\n",
    "#num_hidden_units = 16\n",
    "\n",
    "model = ShallowRegressionLSTM(num_sensors=len(features), hidden_units=num_hidden_units)\n",
    "loss_function = nn.MSELoss()\n",
    "optimizer = torch.optim.Adam(model.parameters(), lr=learning_rate, weight_decay= weight_decay_value)"
   ]
  },
  {
   "cell_type": "code",
   "execution_count": null,
   "id": "5e2cdd9a",
   "metadata": {},
   "outputs": [],
   "source": [
    "classical_loss_train = []\n",
    "classical_loss_test = []\n",
    "classical_time = []\n",
    "print(\"Untrained test\\n--------\")\n",
    "start = time.time()\n",
    "test_loss = test_model(test_loader, model, loss_function)\n",
    "end = time.time()\n",
    "print(\"Execution time\", end - start)\n",
    "classical_loss_test.append(test_loss)\n",
    "classical_time.append(end - start)\n",
    "\n",
    "for ix_epoch in range(20):\n",
    "    print(f\"Epoch {ix_epoch}\\n---------\")\n",
    "    start = time.time()\n",
    "    train_loss = train_model(train_loader, model, loss_function, optimizer=optimizer)\n",
    "    test_loss = test_model(test_loader, model, loss_function)\n",
    "    end = time.time()\n",
    "    print(\"Execution time\", end - start)\n",
    "    classical_loss_train.append(train_loss)\n",
    "    classical_loss_test.append(test_loss)\n",
    "    classical_time.append(end - start)"
   ]
  },
  {
   "cell_type": "markdown",
   "id": "2f44945e",
   "metadata": {},
   "source": [
    "We then use the model to predict the test set, and then compare the results of the prediction to the real values."
   ]
  },
  {
   "cell_type": "code",
   "execution_count": null,
   "id": "478ffa72",
   "metadata": {},
   "outputs": [],
   "source": [
    "def predict(data_loader, model):\n",
    "    \"\"\"Just like `test_loop` function but keep track of the outputs instead of the loss\n",
    "    function.\n",
    "    \"\"\"\n",
    "    output = torch.tensor([])\n",
    "    model.eval()\n",
    "    with torch.no_grad():\n",
    "        for X, _ in data_loader:\n",
    "            y_star = model(X)\n",
    "            output = torch.cat((output, y_star), 0)\n",
    "    \n",
    "    return output"
   ]
  },
  {
   "cell_type": "code",
   "execution_count": null,
   "id": "58531cc4",
   "metadata": {},
   "outputs": [],
   "source": [
    "train_eval_loader = DataLoader(train_dataset, batch_size=batch_size, shuffle=False)\n",
    "\n",
    "ystar_col = \"Model forecast\"\n",
    "df_train[ystar_col] = predict(train_eval_loader, model).numpy()\n",
    "df_test[ystar_col] = predict(test_loader, model).numpy()\n",
    "\n",
    "df_out = pd.concat((df_train, df_test))[[target, ystar_col]]\n",
    "\n",
    "for c in df_out.columns:\n",
    "    df_out[c] = df_out[c] * target_stdev + target_mean\n",
    "\n",
    "print(df_out)"
   ]
  },
  {
   "cell_type": "code",
   "execution_count": null,
   "id": "73fe1937",
   "metadata": {},
   "outputs": [],
   "source": [
    "df_out = df_out[~df_out.index.duplicated(keep='first')]"
   ]
  },
  {
   "cell_type": "code",
   "execution_count": null,
   "id": "099ed8ce",
   "metadata": {},
   "outputs": [],
   "source": [
    "plt.figure(figsize=(12, 7))\n",
    "plt.plot(range(len(df_out)), df_out[\"Close_lead1\"], label = \"Real\")\n",
    "plt.plot(range(len(df_out)), df_out[\"Model forecast\"], label = \"LSTM Prediction\")\n",
    "plt.ylabel('Stock Price')\n",
    "plt.xlabel('Days')\n",
    "plt.vlines(size, ymin = 30, ymax = 90, label = \"Test set start\", linestyles = \"dashed\")\n",
    "plt.legend()\n",
    "plt.show()"
   ]
  },
  {
   "cell_type": "code",
   "execution_count": null,
   "id": "ca40c7b3",
   "metadata": {},
   "outputs": [],
   "source": [
    "plt.figure(figsize=(8, 6))\n",
    "plt.plot(range(21), classical_loss_test)\n",
    "plt.ylabel('Test Loss')\n",
    "plt.xlabel('Epoch')\n",
    "plt.show()"
   ]
  },
  {
   "cell_type": "code",
   "execution_count": null,
   "id": "1b7e9df8",
   "metadata": {},
   "outputs": [],
   "source": [
    "plt.figure(figsize=(8, 6))\n",
    "plt.plot(range(1, 21), classical_loss_train)\n",
    "plt.ylabel('Train Loss')\n",
    "plt.xlabel('Epoch')\n",
    "plt.show()"
   ]
  },
  {
   "cell_type": "code",
   "execution_count": null,
   "id": "6c304700",
   "metadata": {},
   "outputs": [],
   "source": [
    "import csv"
   ]
  },
  {
   "cell_type": "code",
   "execution_count": null,
   "id": "bb424d51",
   "metadata": {},
   "outputs": [],
   "source": [
    "with open('test.csv', 'a', newline='') as test_csv:\n",
    "    test_csv_writer = csv.writer(test_csv)\n",
    "    test_csv_writer.writerow(classical_loss_test)"
   ]
  },
  {
   "cell_type": "code",
   "execution_count": null,
   "id": "5b1386e6",
   "metadata": {},
   "outputs": [],
   "source": [
    "with open('train.csv', 'a', newline='') as train_csv:\n",
    "    train_csv_writer = csv.writer(train_csv)\n",
    "    train_csv_writer.writerow(classical_loss_train)"
   ]
  },
  {
   "cell_type": "code",
   "execution_count": null,
   "id": "2948c531",
   "metadata": {},
   "outputs": [],
   "source": [
    "with open('pred.csv', 'a', newline='') as pred_csv:\n",
    "    pred_csv_writer = csv.writer(pred_csv)\n",
    "    pred_csv_writer.writerow(df_out[\"Model forecast\"])"
   ]
  },
  {
   "cell_type": "code",
   "execution_count": null,
   "id": "8afa35a4",
   "metadata": {},
   "outputs": [],
   "source": [
    "for i in range(len(classical_loss_test)):\n",
    "    writer.add_scalar(\"Test loss\",classical_loss_test[i], i)\n",
    "    \n",
    "for i in range(len(classical_loss_train)):\n",
    "    writer.add_scalar(\"Train loss: \", classical_loss_train[i], i)\n",
    "    \n",
    "for i in range(len(df_out[\"Model forecast\"])):\n",
    "    writer.add_scalar(\"Predicted Value: \", df_out[\"Model forecast\"][i], i)\n",
    "    \n",
    "writer.close()"
   ]
  },
  {
   "cell_type": "markdown",
   "id": "515841ce",
   "metadata": {},
   "source": [
    "## Number of parameters used"
   ]
  },
  {
   "cell_type": "code",
   "execution_count": null,
   "id": "3dbc90c0",
   "metadata": {},
   "outputs": [],
   "source": [
    "def count_parameters(m):\n",
    "    return sum(p.numel() for p in m.parameters() if p.requires_grad)"
   ]
  },
  {
   "cell_type": "code",
   "execution_count": null,
   "id": "aa1eebcc",
   "metadata": {},
   "outputs": [],
   "source": [
    "count_parameters(model)"
   ]
  },
  {
   "cell_type": "markdown",
   "id": "072a1f21",
   "metadata": {},
   "source": [
    "## Complexity analysis"
   ]
  },
  {
   "cell_type": "markdown",
   "id": "9e60edef",
   "metadata": {},
   "source": [
    "As a last point of comparison, we want to discuss the complexity analysis for the QLSTM, as well as compare the number of parameters used for the LSTM and the QLSTM.\n",
    "\n",
    "Given that we would want to eventually use the QLSTM on real quantum computers, it would be prudent to discuss its viability in terms of the number of gates and qubits used. First of all, we look at the number of qubits. As can be seen, in a barebones early version of QLSTM, we can afford to use any number of qubits, even a small number like 4 to run it. This is because we can sandwich it between two classical layers, where the classical layers help to convert the vector sizes to the correct amount, from the embedding of input features into the quantum circuit to the processing of the output measurements. This is very similar in idea to dressed quantum circuits, which was presented in:\n",
    "\n",
    "Transfer learning in hybrid classical-quantum neural networks: https://arxiv.org/abs/1912.08278, Andrea Mari, Thomas R. Bromley, Josh Izaac, Maria Schuld, Nathan Killoran\n",
    "\n",
    "In the foreseeable future in the NISQ era, we would likely be continuing to use the same technique, although the number of qubits can be increased to improve the model, making this technique useful in the NISQ era.\n",
    "\n",
    "For the number of gates used per circuit, we take a look at how the overall depth would increase as number of qubits and number of layers increases. As seen from the circuit above, the overall depth is $3 + n_l * (2 * n_q + 3)$, where $n_l, n_q$ refers to the number of layers and number of qubits respectively. Thus, the overall depth would increase linearly in both number of qubits and number of layers. What this also means is that the depth is quite easy to control, and extremely viable for the NISQ era. In this particular proof of example, we show that even when the number of layers is 1 (the smallest it can be) and the number of qubits is a small number, we still get pretty good results. \n"
   ]
  },
  {
   "cell_type": "markdown",
   "id": "0f526c77",
   "metadata": {},
   "source": [
    "# Conclusion and Future Outlook"
   ]
  },
  {
   "cell_type": "markdown",
   "id": "198269c2",
   "metadata": {},
   "source": [
    "In this notebook, we have given the proof of concept that QLSTM can be used to great effect for stock price prediction, offering comparable results than its classical counterpart, while needed much fewer parameters to train and getting more information per epoch. All in all, this shows that this technique has a lot of potential in the financial world and more, as anything time series related can be trained using an LSTM and hence also a QLSTM. This is relevant not only to stock price predictions, but also for example company sales predictions or other key performance predictions. However, there are still many areas for improvement."
   ]
  }
 ],
 "metadata": {
  "kernelspec": {
   "display_name": "Python 3 (ipykernel)",
   "language": "python",
   "name": "python3"
  },
  "language_info": {
   "codemirror_mode": {
    "name": "ipython",
    "version": 3
   },
   "file_extension": ".py",
   "mimetype": "text/x-python",
   "name": "python",
   "nbconvert_exporter": "python",
   "pygments_lexer": "ipython3",
   "version": "3.9.12"
  }
 },
 "nbformat": 4,
 "nbformat_minor": 5
}
