{
 "cells": [
  {
   "cell_type": "code",
   "execution_count": 1,
   "id": "a33a1f56",
   "metadata": {},
   "outputs": [],
   "source": [
    "import helper\n",
    "import pandas as pd\n",
    "from utils import *\n",
    "\n",
    "import time\n",
    "import numpy as np\n",
    "import math\n",
    "import matplotlib.pyplot as plt\n",
    "\n",
    "import torch\n",
    "from torch.utils.data import DataLoader\n",
    "from torch import nn\n",
    "\n",
    "from sklearn.decomposition import PCA\n",
    "\n",
    "from IPython.display import Image\n",
    "\n",
    "from torch.utils.data import Dataset\n",
    "import pennylane as qml\n"
   ]
  },
  {
   "cell_type": "markdown",
   "id": "0dce35c5",
   "metadata": {},
   "source": [
    "# Introduction"
   ]
  },
  {
   "cell_type": "markdown",
   "id": "9eb7a535",
   "metadata": {},
   "source": [
    "Stock price prediction is one of the most rewarding problems in modern finance, where the accurate forecasting of future stock prices can yield significant profit and reduce the risks. LSTM (Long Short-Term Memory) is a recurrent Neural Network (RNN) applicable to a broad range of problems aiming to analyze or classify sequential data. Therefore, many people have used LSTM to predict the future stock price based on the historical data sequences with great success.\n",
    "\n",
    "On the other hand, recent studies have shown that the LSTM's efficiency and trainability can be improved by replacing some of the layers in the LSTM with variational quantum layers, thus making it a quantum-classical hybrid model of LSTM which we will call QLSTM for Quantum LSTM. In the study done by Samuel Yen-Chi Chen, Shinjae Yoo, and Yao-Lung L. Fang, they show that QLSTM offers better trainability compared to its classical counterpart as it proved to learn significantly more information after the first training epoch than its classical counterpart, learnt the local features better, all while having a comparable number of parameters. Inspired by these recent results, we proceed to test this variational quantum-classical hybrid neural network technique on stock price predictions. \n",
    "\n",
    "In the following notebook, we show a proof of concept that QLSTM can be used to great effect for stock price prediction, offering comparable and arguably better results than its classical counterpart. To do so, we implement both LSTM and QLSTM to predict the stock prices of the company Merck & Co. Inc (MRK) with the same number of features, of which we chose based on earlier studies done with stock price predictions."
   ]
  },
  {
   "cell_type": "markdown",
   "id": "922097fa",
   "metadata": {},
   "source": [
    "This submission was motivated by a combination of a few separate studies:\n",
    "\n",
    "Stock price prediction use BERT and GAN: https://arxiv.org/pdf/2107.09055.pdf, Priyank Sonkiya, Vikas Bajpai, Anukriti Bansal <br>\n",
    "Quantum Long Short-Term Memory: https://arxiv.org/pdf/2009.01783.pdf, Samuel Yen-Chi Chen, Shinjae Yoo, and Yao-Lung L. Fang <br>\n",
    "\n",
    "With code and ideas reused and repurposed from the following sources:\n",
    "\n",
    "Example of a QLSTM: https://github.com/rdisipio/qlstm, Riccardo Di Sipio <br>\n",
    "How to use PyTorch LSTMs for time series regression: https://www.crosstab.io/articles/time-series-pytorch-lstm, Brian Kent <br>\n",
    "Using GANs to predict stock price movement: https://towardsdatascience.com/aifortrading-2edd6fac689d, Boris Banushev<br>"
   ]
  },
  {
   "cell_type": "markdown",
   "id": "696bb7d7",
   "metadata": {},
   "source": [
    "## Brief Outline"
   ]
  },
  {
   "cell_type": "markdown",
   "id": "4e301a55",
   "metadata": {},
   "source": [
    "To demonstrate the use of QLSTM for stock prediction, we use the stock prices of the company Merck & Co. Inc (MRK). The notebook will proceed in the following manner:\n",
    "\n",
    "1. Brief description of Data\n",
    "2. Using Classical LSTM to perform stock price prediction\n",
    "3. Defining QLSTM and using it to perform stock price prediction\n",
    "4. Comparison between LSTM and QLSTM\n",
    "\n",
    "Note that for the LSTM, we would be using PyTorch; while for the QLSTM we would be using PyTorch and Pennylane. "
   ]
  },
  {
   "cell_type": "markdown",
   "id": "8dcf2258",
   "metadata": {},
   "source": [
    "# Data"
   ]
  },
  {
   "cell_type": "markdown",
   "id": "841734de",
   "metadata": {},
   "source": [
    "To briefly describe the data, we have collected the historical data of the MRK stock prices, of which we focus on the closing price. Our goal is then to forecast the closing stock prices of MRK using LSTM (or QLSTM). \n",
    "\n",
    "To achieve this goal, we have collected the data and information we thought necessary and important. This includes the following:\n",
    "\n",
    "- Technical indicators\n",
    "- Trend approximations (Fourier Transforms)\n",
    "- ARIMA \n",
    "- Correlated assets\n",
    "- Sentimental analysis\n",
    "\n",
    "While interesting and important in its own right, we have decided not to go into detail for the data collection in this notebook. For more information, please go take a look at the Data Collection notebook also in this Github. \n",
    "\n",
    "In this section, our goal is to process the data to get it ready for the LSTM and QLSTM."
   ]
  },
  {
   "cell_type": "markdown",
   "id": "3b37e1ea",
   "metadata": {},
   "source": [
    "First, we read in the data, dropping the index and the date."
   ]
  },
  {
   "cell_type": "code",
   "execution_count": 2,
   "id": "31c36071",
   "metadata": {},
   "outputs": [
    {
     "data": {
      "text/html": [
       "<div>\n",
       "<style scoped>\n",
       "    .dataframe tbody tr th:only-of-type {\n",
       "        vertical-align: middle;\n",
       "    }\n",
       "\n",
       "    .dataframe tbody tr th {\n",
       "        vertical-align: top;\n",
       "    }\n",
       "\n",
       "    .dataframe thead th {\n",
       "        text-align: right;\n",
       "    }\n",
       "</style>\n",
       "<table border=\"1\" class=\"dataframe\">\n",
       "  <thead>\n",
       "    <tr style=\"text-align: right;\">\n",
       "      <th></th>\n",
       "      <th>Close</th>\n",
       "      <th>Volume</th>\n",
       "      <th>ma7</th>\n",
       "      <th>ma21</th>\n",
       "      <th>26ema</th>\n",
       "      <th>12ema</th>\n",
       "      <th>MACD</th>\n",
       "      <th>20sd</th>\n",
       "      <th>upper_band</th>\n",
       "      <th>lower_band</th>\n",
       "      <th>...</th>\n",
       "      <th>GSK</th>\n",
       "      <th>LLY</th>\n",
       "      <th>NVS</th>\n",
       "      <th>NYSE</th>\n",
       "      <th>NASDAQ</th>\n",
       "      <th>FT3</th>\n",
       "      <th>FT6</th>\n",
       "      <th>FT9</th>\n",
       "      <th>ARIMA</th>\n",
       "      <th>Close_lead1</th>\n",
       "    </tr>\n",
       "  </thead>\n",
       "  <tbody>\n",
       "    <tr>\n",
       "      <th>0</th>\n",
       "      <td>31.011450</td>\n",
       "      <td>14227229</td>\n",
       "      <td>30.050436</td>\n",
       "      <td>29.200291</td>\n",
       "      <td>29.514006</td>\n",
       "      <td>29.867322</td>\n",
       "      <td>0.353316</td>\n",
       "      <td>0.835852</td>\n",
       "      <td>30.871996</td>\n",
       "      <td>27.528586</td>\n",
       "      <td>...</td>\n",
       "      <td>20.878580</td>\n",
       "      <td>22.399839</td>\n",
       "      <td>24.247177</td>\n",
       "      <td>6671.140137</td>\n",
       "      <td>2017.979980</td>\n",
       "      <td>55.454947</td>\n",
       "      <td>50.337802</td>\n",
       "      <td>47.947327</td>\n",
       "      <td>31.011450</td>\n",
       "      <td>31.440840</td>\n",
       "    </tr>\n",
       "    <tr>\n",
       "      <th>1</th>\n",
       "      <td>31.440840</td>\n",
       "      <td>20081566</td>\n",
       "      <td>30.318975</td>\n",
       "      <td>29.299346</td>\n",
       "      <td>29.688906</td>\n",
       "      <td>30.115697</td>\n",
       "      <td>0.426791</td>\n",
       "      <td>0.963549</td>\n",
       "      <td>31.226444</td>\n",
       "      <td>27.372247</td>\n",
       "      <td>...</td>\n",
       "      <td>20.725075</td>\n",
       "      <td>22.492813</td>\n",
       "      <td>24.541563</td>\n",
       "      <td>6697.220215</td>\n",
       "      <td>2024.229980</td>\n",
       "      <td>55.359252</td>\n",
       "      <td>50.140845</td>\n",
       "      <td>47.659130</td>\n",
       "      <td>31.440840</td>\n",
       "      <td>31.183207</td>\n",
       "    </tr>\n",
       "    <tr>\n",
       "      <th>2</th>\n",
       "      <td>31.183207</td>\n",
       "      <td>10438080</td>\n",
       "      <td>30.564340</td>\n",
       "      <td>29.420211</td>\n",
       "      <td>29.822316</td>\n",
       "      <td>30.283528</td>\n",
       "      <td>0.461212</td>\n",
       "      <td>1.026446</td>\n",
       "      <td>31.473102</td>\n",
       "      <td>27.367319</td>\n",
       "      <td>...</td>\n",
       "      <td>20.714487</td>\n",
       "      <td>22.346714</td>\n",
       "      <td>24.611151</td>\n",
       "      <td>6687.939941</td>\n",
       "      <td>2024.430054</td>\n",
       "      <td>55.263482</td>\n",
       "      <td>49.944470</td>\n",
       "      <td>47.372320</td>\n",
       "      <td>31.183207</td>\n",
       "      <td>31.364504</td>\n",
       "    </tr>\n",
       "    <tr>\n",
       "      <th>3</th>\n",
       "      <td>31.364504</td>\n",
       "      <td>10302154</td>\n",
       "      <td>30.858779</td>\n",
       "      <td>29.556525</td>\n",
       "      <td>29.957940</td>\n",
       "      <td>30.452906</td>\n",
       "      <td>0.494965</td>\n",
       "      <td>1.086420</td>\n",
       "      <td>31.729366</td>\n",
       "      <td>27.383684</td>\n",
       "      <td>...</td>\n",
       "      <td>20.952705</td>\n",
       "      <td>22.652191</td>\n",
       "      <td>24.959068</td>\n",
       "      <td>6722.310059</td>\n",
       "      <td>2027.729980</td>\n",
       "      <td>55.167638</td>\n",
       "      <td>49.748691</td>\n",
       "      <td>47.086936</td>\n",
       "      <td>31.364504</td>\n",
       "      <td>30.839695</td>\n",
       "    </tr>\n",
       "    <tr>\n",
       "      <th>4</th>\n",
       "      <td>30.839695</td>\n",
       "      <td>12640452</td>\n",
       "      <td>30.973283</td>\n",
       "      <td>29.664667</td>\n",
       "      <td>30.034423</td>\n",
       "      <td>30.513340</td>\n",
       "      <td>0.478916</td>\n",
       "      <td>1.094567</td>\n",
       "      <td>31.853801</td>\n",
       "      <td>27.475534</td>\n",
       "      <td>...</td>\n",
       "      <td>20.719778</td>\n",
       "      <td>22.313509</td>\n",
       "      <td>24.841312</td>\n",
       "      <td>6709.040039</td>\n",
       "      <td>2028.770020</td>\n",
       "      <td>55.071723</td>\n",
       "      <td>49.553518</td>\n",
       "      <td>46.803017</td>\n",
       "      <td>30.839695</td>\n",
       "      <td>30.944656</td>\n",
       "    </tr>\n",
       "    <tr>\n",
       "      <th>...</th>\n",
       "      <td>...</td>\n",
       "      <td>...</td>\n",
       "      <td>...</td>\n",
       "      <td>...</td>\n",
       "      <td>...</td>\n",
       "      <td>...</td>\n",
       "      <td>...</td>\n",
       "      <td>...</td>\n",
       "      <td>...</td>\n",
       "      <td>...</td>\n",
       "      <td>...</td>\n",
       "      <td>...</td>\n",
       "      <td>...</td>\n",
       "      <td>...</td>\n",
       "      <td>...</td>\n",
       "      <td>...</td>\n",
       "      <td>...</td>\n",
       "      <td>...</td>\n",
       "      <td>...</td>\n",
       "      <td>...</td>\n",
       "      <td>...</td>\n",
       "    </tr>\n",
       "    <tr>\n",
       "      <th>2712</th>\n",
       "      <td>78.301529</td>\n",
       "      <td>13675457</td>\n",
       "      <td>75.931026</td>\n",
       "      <td>74.702836</td>\n",
       "      <td>75.305196</td>\n",
       "      <td>75.725497</td>\n",
       "      <td>0.420300</td>\n",
       "      <td>1.705192</td>\n",
       "      <td>78.113220</td>\n",
       "      <td>71.292452</td>\n",
       "      <td>...</td>\n",
       "      <td>38.282616</td>\n",
       "      <td>148.141159</td>\n",
       "      <td>79.282288</td>\n",
       "      <td>12302.190430</td>\n",
       "      <td>9682.910156</td>\n",
       "      <td>57.910147</td>\n",
       "      <td>55.622779</td>\n",
       "      <td>55.790021</td>\n",
       "      <td>76.887436</td>\n",
       "      <td>77.814888</td>\n",
       "    </tr>\n",
       "    <tr>\n",
       "      <th>2713</th>\n",
       "      <td>77.814888</td>\n",
       "      <td>9292930</td>\n",
       "      <td>76.515814</td>\n",
       "      <td>74.863687</td>\n",
       "      <td>75.491099</td>\n",
       "      <td>76.046941</td>\n",
       "      <td>0.555842</td>\n",
       "      <td>1.816324</td>\n",
       "      <td>78.496336</td>\n",
       "      <td>71.231038</td>\n",
       "      <td>...</td>\n",
       "      <td>37.855434</td>\n",
       "      <td>146.373550</td>\n",
       "      <td>78.745728</td>\n",
       "      <td>12286.980469</td>\n",
       "      <td>9615.809570</td>\n",
       "      <td>57.817099</td>\n",
       "      <td>55.415062</td>\n",
       "      <td>55.480641</td>\n",
       "      <td>78.191500</td>\n",
       "      <td>78.492363</td>\n",
       "    </tr>\n",
       "    <tr>\n",
       "      <th>2714</th>\n",
       "      <td>78.492363</td>\n",
       "      <td>10413347</td>\n",
       "      <td>77.157852</td>\n",
       "      <td>75.097238</td>\n",
       "      <td>75.713415</td>\n",
       "      <td>76.423160</td>\n",
       "      <td>0.709745</td>\n",
       "      <td>1.857931</td>\n",
       "      <td>78.813100</td>\n",
       "      <td>71.381377</td>\n",
       "      <td>...</td>\n",
       "      <td>37.900879</td>\n",
       "      <td>144.916702</td>\n",
       "      <td>79.458054</td>\n",
       "      <td>12641.440430</td>\n",
       "      <td>9814.080078</td>\n",
       "      <td>57.723926</td>\n",
       "      <td>55.207594</td>\n",
       "      <td>55.171523</td>\n",
       "      <td>77.972240</td>\n",
       "      <td>79.103050</td>\n",
       "    </tr>\n",
       "    <tr>\n",
       "      <th>2715</th>\n",
       "      <td>79.103050</td>\n",
       "      <td>9956838</td>\n",
       "      <td>77.684024</td>\n",
       "      <td>75.428935</td>\n",
       "      <td>75.964499</td>\n",
       "      <td>76.835451</td>\n",
       "      <td>0.870952</td>\n",
       "      <td>1.960788</td>\n",
       "      <td>79.350511</td>\n",
       "      <td>71.507360</td>\n",
       "      <td>...</td>\n",
       "      <td>38.509834</td>\n",
       "      <td>144.916702</td>\n",
       "      <td>79.254532</td>\n",
       "      <td>12836.599609</td>\n",
       "      <td>9924.750000</td>\n",
       "      <td>57.630627</td>\n",
       "      <td>55.000389</td>\n",
       "      <td>54.862711</td>\n",
       "      <td>78.309688</td>\n",
       "      <td>78.492363</td>\n",
       "    </tr>\n",
       "    <tr>\n",
       "      <th>2716</th>\n",
       "      <td>78.492363</td>\n",
       "      <td>8846168</td>\n",
       "      <td>77.893947</td>\n",
       "      <td>75.695202</td>\n",
       "      <td>76.151748</td>\n",
       "      <td>77.090360</td>\n",
       "      <td>0.938612</td>\n",
       "      <td>2.043482</td>\n",
       "      <td>79.782166</td>\n",
       "      <td>71.608238</td>\n",
       "      <td>...</td>\n",
       "      <td>38.064480</td>\n",
       "      <td>144.839005</td>\n",
       "      <td>81.807854</td>\n",
       "      <td>12619.519531</td>\n",
       "      <td>9953.750000</td>\n",
       "      <td>57.537207</td>\n",
       "      <td>54.793461</td>\n",
       "      <td>54.554253</td>\n",
       "      <td>79.039159</td>\n",
       "      <td>78.024811</td>\n",
       "    </tr>\n",
       "  </tbody>\n",
       "</table>\n",
       "<p>2717 rows × 34 columns</p>\n",
       "</div>"
      ],
      "text/plain": [
       "          Close    Volume        ma7       ma21      26ema      12ema  \\\n",
       "0     31.011450  14227229  30.050436  29.200291  29.514006  29.867322   \n",
       "1     31.440840  20081566  30.318975  29.299346  29.688906  30.115697   \n",
       "2     31.183207  10438080  30.564340  29.420211  29.822316  30.283528   \n",
       "3     31.364504  10302154  30.858779  29.556525  29.957940  30.452906   \n",
       "4     30.839695  12640452  30.973283  29.664667  30.034423  30.513340   \n",
       "...         ...       ...        ...        ...        ...        ...   \n",
       "2712  78.301529  13675457  75.931026  74.702836  75.305196  75.725497   \n",
       "2713  77.814888   9292930  76.515814  74.863687  75.491099  76.046941   \n",
       "2714  78.492363  10413347  77.157852  75.097238  75.713415  76.423160   \n",
       "2715  79.103050   9956838  77.684024  75.428935  75.964499  76.835451   \n",
       "2716  78.492363   8846168  77.893947  75.695202  76.151748  77.090360   \n",
       "\n",
       "          MACD      20sd  upper_band  lower_band  ...        GSK         LLY  \\\n",
       "0     0.353316  0.835852   30.871996   27.528586  ...  20.878580   22.399839   \n",
       "1     0.426791  0.963549   31.226444   27.372247  ...  20.725075   22.492813   \n",
       "2     0.461212  1.026446   31.473102   27.367319  ...  20.714487   22.346714   \n",
       "3     0.494965  1.086420   31.729366   27.383684  ...  20.952705   22.652191   \n",
       "4     0.478916  1.094567   31.853801   27.475534  ...  20.719778   22.313509   \n",
       "...        ...       ...         ...         ...  ...        ...         ...   \n",
       "2712  0.420300  1.705192   78.113220   71.292452  ...  38.282616  148.141159   \n",
       "2713  0.555842  1.816324   78.496336   71.231038  ...  37.855434  146.373550   \n",
       "2714  0.709745  1.857931   78.813100   71.381377  ...  37.900879  144.916702   \n",
       "2715  0.870952  1.960788   79.350511   71.507360  ...  38.509834  144.916702   \n",
       "2716  0.938612  2.043482   79.782166   71.608238  ...  38.064480  144.839005   \n",
       "\n",
       "            NVS          NYSE       NASDAQ        FT3        FT6        FT9  \\\n",
       "0     24.247177   6671.140137  2017.979980  55.454947  50.337802  47.947327   \n",
       "1     24.541563   6697.220215  2024.229980  55.359252  50.140845  47.659130   \n",
       "2     24.611151   6687.939941  2024.430054  55.263482  49.944470  47.372320   \n",
       "3     24.959068   6722.310059  2027.729980  55.167638  49.748691  47.086936   \n",
       "4     24.841312   6709.040039  2028.770020  55.071723  49.553518  46.803017   \n",
       "...         ...           ...          ...        ...        ...        ...   \n",
       "2712  79.282288  12302.190430  9682.910156  57.910147  55.622779  55.790021   \n",
       "2713  78.745728  12286.980469  9615.809570  57.817099  55.415062  55.480641   \n",
       "2714  79.458054  12641.440430  9814.080078  57.723926  55.207594  55.171523   \n",
       "2715  79.254532  12836.599609  9924.750000  57.630627  55.000389  54.862711   \n",
       "2716  81.807854  12619.519531  9953.750000  57.537207  54.793461  54.554253   \n",
       "\n",
       "          ARIMA  Close_lead1  \n",
       "0     31.011450    31.440840  \n",
       "1     31.440840    31.183207  \n",
       "2     31.183207    31.364504  \n",
       "3     31.364504    30.839695  \n",
       "4     30.839695    30.944656  \n",
       "...         ...          ...  \n",
       "2712  76.887436    77.814888  \n",
       "2713  78.191500    78.492363  \n",
       "2714  77.972240    79.103050  \n",
       "2715  78.309688    78.492363  \n",
       "2716  79.039159    78.024811  \n",
       "\n",
       "[2717 rows x 34 columns]"
      ]
     },
     "execution_count": 2,
     "metadata": {},
     "output_type": "execute_result"
    }
   ],
   "source": [
    "df = pd.read_csv('dataset_MRK_prediction.csv')\n",
    "df = df.drop(['Date' ,'Unnamed: 0'], axis=1)\n",
    "df"
   ]
  },
  {
   "cell_type": "markdown",
   "id": "4aaa9b52",
   "metadata": {},
   "source": [
    "We identify the dependent and independent variables:"
   ]
  },
  {
   "cell_type": "code",
   "execution_count": 3,
   "id": "d53abe07",
   "metadata": {},
   "outputs": [],
   "source": [
    "target = \"Close_lead1\""
   ]
  },
  {
   "cell_type": "code",
   "execution_count": 4,
   "id": "a8cedb86",
   "metadata": {},
   "outputs": [
    {
     "data": {
      "text/plain": [
       "['12ema',\n",
       " '20sd',\n",
       " '26ema',\n",
       " 'AMGN',\n",
       " 'ARIMA',\n",
       " 'BMY',\n",
       " 'FT3',\n",
       " 'FT6',\n",
       " 'FT9',\n",
       " 'GSK',\n",
       " 'JNJ',\n",
       " 'LLY',\n",
       " 'MACD',\n",
       " 'NASDAQ',\n",
       " 'NVS',\n",
       " 'NYSE',\n",
       " 'PFE',\n",
       " 'SNP',\n",
       " 'SNY',\n",
       " 'VTRS',\n",
       " 'VZ',\n",
       " 'Volume',\n",
       " 'ema',\n",
       " 'log_momentum',\n",
       " 'lower_band',\n",
       " 'ma21',\n",
       " 'ma7',\n",
       " 'momentum',\n",
       " 'neg',\n",
       " 'neu',\n",
       " 'pos',\n",
       " 'upper_band']"
      ]
     },
     "execution_count": 4,
     "metadata": {},
     "output_type": "execute_result"
    }
   ],
   "source": [
    "features = list(df.columns.difference([\"Close\", 'Close_lead1']))\n",
    "features"
   ]
  },
  {
   "cell_type": "markdown",
   "id": "a65613d0",
   "metadata": {},
   "source": [
    "## Data Processing"
   ]
  },
  {
   "cell_type": "markdown",
   "id": "0c7baf43",
   "metadata": {},
   "source": [
    "To process the data, we first split it into training and test data, where two-thirds of the data is used for training, and the last third is used for testing."
   ]
  },
  {
   "cell_type": "code",
   "execution_count": 5,
   "id": "465d24a1",
   "metadata": {},
   "outputs": [],
   "source": [
    "size = int(len(df) * 0.67)\n",
    "\n",
    "df_train = df.loc[:size].copy()\n",
    "df_test = df.loc[size:].copy()"
   ]
  },
  {
   "cell_type": "markdown",
   "id": "dc621071",
   "metadata": {},
   "source": [
    "Next, in order to ensure that some values don't inherently dominate the features due to their magnitude, we standardize their values."
   ]
  },
  {
   "cell_type": "code",
   "execution_count": 6,
   "id": "bff7d289",
   "metadata": {},
   "outputs": [],
   "source": [
    "target_mean = df_train[target].mean()\n",
    "target_stdev = df_train[target].std()\n",
    "\n",
    "for c in df_train.columns:\n",
    "    mean = df_train[c].mean()\n",
    "    stdev = df_train[c].std()\n",
    "\n",
    "    df_train[c] = (df_train[c] - mean) / stdev\n",
    "    df_test[c] = (df_test[c] - mean) / stdev"
   ]
  },
  {
   "cell_type": "code",
   "execution_count": 7,
   "id": "134bb0c2",
   "metadata": {},
   "outputs": [],
   "source": [
    "from Factory import SequenceDataset"
   ]
  },
  {
   "cell_type": "markdown",
   "id": "6e9b59fe",
   "metadata": {},
   "source": [
    "Finally, the last step in the data processing to prepare it for LSTM is to prepare the data in a sequence of past observations. Preparing LSTM on time series data means that it uses a certain number of past observations to predict the future. In this case, the sequence length decides how many days the LSTM considers in advance. If the sequence length is $n$, then the LSTM considers the last $n$ observations to predict the $n+1$th day.\n",
    "\n",
    "The sequence length we decided on is 3 for purposes of this notebook."
   ]
  },
  {
   "cell_type": "code",
   "execution_count": 8,
   "id": "3029e88d",
   "metadata": {},
   "outputs": [
    {
     "name": "stdout",
     "output_type": "stream",
     "text": [
      "Features shape: torch.Size([1, 3, 32])\n",
      "Target shape: torch.Size([1])\n"
     ]
    }
   ],
   "source": [
    "torch.manual_seed(101)\n",
    "\n",
    "batch_size = 1\n",
    "sequence_length = 3\n",
    "\n",
    "train_dataset = SequenceDataset(\n",
    "    df_train,\n",
    "    target=target,\n",
    "    features=features,\n",
    "    sequence_length=sequence_length\n",
    ")\n",
    "test_dataset = SequenceDataset(\n",
    "    df_test,\n",
    "    target=target,\n",
    "    features=features,\n",
    "    sequence_length=sequence_length\n",
    ")\n",
    "\n",
    "train_loader = DataLoader(train_dataset, batch_size=batch_size, shuffle=True)\n",
    "test_loader = DataLoader(test_dataset, batch_size=batch_size, shuffle=False)\n",
    "\n",
    "X, y = next(iter(train_loader))\n",
    "\n",
    "print(\"Features shape:\", X.shape)\n",
    "print(\"Target shape:\", y.shape)"
   ]
  },
  {
   "cell_type": "markdown",
   "id": "245af1d7",
   "metadata": {},
   "source": [
    "# Classical LSTM"
   ]
  },
  {
   "cell_type": "markdown",
   "id": "50a784bc",
   "metadata": {},
   "source": [
    "We first define two functions:\n",
    "    \n",
    "- train_model: function to train the model based on the batches of data\n",
    "- test_model: function to test the model on the testing data\n",
    "    \n",
    "For both, they print the loss at the end to let us know how the model is performing with regards to the data."
   ]
  },
  {
   "cell_type": "code",
   "execution_count": 9,
   "id": "dbe496cd",
   "metadata": {},
   "outputs": [],
   "source": [
    "def train_model(data_loader, model, loss_function, optimizer):\n",
    "    num_batches = len(data_loader)\n",
    "    total_loss = 0\n",
    "    model.train()\n",
    "    \n",
    "    for X, y in data_loader:\n",
    "        output = model(X)\n",
    "        loss = loss_function(output, y)\n",
    "\n",
    "        optimizer.zero_grad()\n",
    "        loss.backward()\n",
    "        optimizer.step()\n",
    "\n",
    "        total_loss += loss.item()\n",
    "\n",
    "    avg_loss = total_loss / num_batches\n",
    "    print(f\"Train loss: {avg_loss}\")\n",
    "    return avg_loss\n",
    "\n",
    "def test_model(data_loader, model, loss_function):\n",
    "    \n",
    "    num_batches = len(data_loader)\n",
    "    total_loss = 0\n",
    "\n",
    "    model.eval()\n",
    "    with torch.no_grad():\n",
    "        for X, y in data_loader:\n",
    "            output = model(X)\n",
    "            total_loss += loss_function(output, y).item()\n",
    "\n",
    "    avg_loss = total_loss / num_batches\n",
    "    print(f\"Test loss: {avg_loss}\")\n",
    "    return avg_loss"
   ]
  },
  {
   "cell_type": "markdown",
   "id": "8dd5d66a",
   "metadata": {},
   "source": [
    "## Running the Classical LSTM"
   ]
  },
  {
   "cell_type": "markdown",
   "id": "8dd7aabb",
   "metadata": {},
   "source": [
    "To understand how we implemented QLSTM, we have to first understand how we implemented LSTM. LSTM follows the following structure:\n",
    "\n",
    "<img src=\"lstm2.jpg\" alt=\"drawing\" width=\"400\"/>\n",
    "\n",
    "Image taken from: Quantum Long Short-Term Memory, https://arxiv.org/pdf/2009.01783.pdf. By Samuel Yen-Chi Chen, Shinjae Yoo, and Yao-Lung L. Fang\n",
    "\n",
    "Simply put, LSTM uses 4 neural network layers in each LSTM cell to perform its functions. They are:\n",
    "\n",
    "- Forget layer\n",
    "- Input layer\n",
    "- Update layer\n",
    "- Output layer\n",
    "\n",
    "You can see the corresponding layers in the W cells in the picture above. We will be skipping the technical details, as you can find better information on the theory elsewhere, but it is important to note that these 4 layers are the key to building an LSTM neural network model that we can train and eventually use to predict, and usually take the form of a normal NN layer (like a linear layer with reLU or convolutional layers).\n",
    "\n",
    "LSTMs are well studied, and there is a native implementation of it in PyTorch to begin with, so we use a slightly modified version of it for the time series LSTM that we perform here. The code for the time series LSTM was reused from:\n",
    "\n",
    "How to use PyTorch LSTMs for time series regression: https://www.crosstab.io/articles/time-series-pytorch-lstm, Brian Kent.\n",
    "\n",
    "In the following code, we train LSTM to predict future stock prices, and then test it on the test dataset. The learning rate of 0.0001 was decided after some experimentation, where we chose the learning rate that most reliably gave accurate results. The number of epochs we use is 20, by which it would have converged and thus would suffice for the purposes of this notebook. After that, we proceed to see 3 different graphs: the comparison between the real stock prices and the ones given by the model; and the evolution of test loss and training loss by epoch."
   ]
  },
  {
   "cell_type": "code",
   "execution_count": 10,
   "id": "1b0568ab",
   "metadata": {},
   "outputs": [],
   "source": [
    "from Factory import ShallowRegressionLSTM"
   ]
  },
  {
   "cell_type": "code",
   "execution_count": 11,
   "id": "2a758f02",
   "metadata": {},
   "outputs": [],
   "source": [
    "learning_rate = 0.0001\n",
    "num_hidden_units = 16\n",
    "\n",
    "model = ShallowRegressionLSTM(num_sensors=len(features), hidden_units=num_hidden_units)\n",
    "loss_function = nn.MSELoss()\n",
    "optimizer = torch.optim.Adam(model.parameters(), lr=learning_rate)"
   ]
  },
  {
   "cell_type": "code",
   "execution_count": 12,
   "id": "5e2cdd9a",
   "metadata": {},
   "outputs": [
    {
     "name": "stdout",
     "output_type": "stream",
     "text": [
      "Untrained test\n",
      "--------\n",
      "Test loss: 8.63370796968307\n",
      "\n",
      "Epoch 0\n",
      "---------\n"
     ]
    },
    {
     "name": "stderr",
     "output_type": "stream",
     "text": [
      "C:\\Users\\jonas\\Anaconda3\\envs\\stock2\\lib\\site-packages\\torch\\autograd\\__init__.py:156: UserWarning: CUDA initialization: The NVIDIA driver on your system is too old (found version 10000). Please update your GPU driver by downloading and installing a new version from the URL: http://www.nvidia.com/Download/index.aspx Alternatively, go to: https://pytorch.org to install a PyTorch version that has been compiled with your version of the CUDA driver. (Triggered internally at  ..\\c10\\cuda\\CUDAFunctions.cpp:112.)\n",
      "  allow_unreachable=True, accumulate_grad=True)  # allow_unreachable flag\n"
     ]
    },
    {
     "name": "stdout",
     "output_type": "stream",
     "text": [
      "Train loss: 0.26565711492142163\n",
      "Test loss: 2.6394756276780855\n",
      "\n",
      "Epoch 1\n",
      "---------\n",
      "Train loss: 0.034793511090199625\n",
      "Test loss: 2.011277747088177\n",
      "\n",
      "Epoch 2\n",
      "---------\n",
      "Train loss: 0.01792526586627274\n",
      "Test loss: 1.7940520922373797\n",
      "\n",
      "Epoch 3\n",
      "---------\n",
      "Train loss: 0.012064557028542082\n",
      "Test loss: 1.6192236333745815\n",
      "\n",
      "Epoch 4\n",
      "---------\n",
      "Train loss: 0.009505265827810054\n",
      "Test loss: 1.5189528838481918\n",
      "\n",
      "Epoch 5\n",
      "---------\n",
      "Train loss: 0.008333475303666163\n",
      "Test loss: 1.4866265835987975\n",
      "\n",
      "Epoch 6\n",
      "---------\n",
      "Train loss: 0.007612032574255963\n",
      "Test loss: 1.4220794091968219\n",
      "\n",
      "Epoch 7\n",
      "---------\n",
      "Train loss: 0.007170078509746475\n",
      "Test loss: 1.4131933552489715\n",
      "\n",
      "Epoch 8\n",
      "---------\n",
      "Train loss: 0.0067054036340956245\n",
      "Test loss: 1.3810982122121922\n",
      "\n",
      "Epoch 9\n",
      "---------\n",
      "Train loss: 0.006261011131052182\n",
      "Test loss: 1.3244663835716517\n",
      "\n",
      "Epoch 10\n",
      "---------\n",
      "Train loss: 0.006055880409883008\n",
      "Test loss: 1.3058520797314415\n",
      "\n",
      "Epoch 11\n",
      "---------\n",
      "Train loss: 0.005732669780509196\n",
      "Test loss: 1.2856141393177567\n",
      "\n",
      "Epoch 12\n",
      "---------\n",
      "Train loss: 0.005582868445824666\n",
      "Test loss: 1.3173917869965546\n",
      "\n",
      "Epoch 13\n",
      "---------\n",
      "Train loss: 0.005420227182157657\n",
      "Test loss: 1.335887774074838\n",
      "\n",
      "Epoch 14\n",
      "---------\n",
      "Train loss: 0.005214954591592749\n",
      "Test loss: 1.267360284000461\n",
      "\n",
      "Epoch 15\n",
      "---------\n",
      "Train loss: 0.005114811047043471\n",
      "Test loss: 1.2904997502303022\n",
      "\n",
      "Epoch 16\n",
      "---------\n",
      "Train loss: 0.004976241402106604\n",
      "Test loss: 1.2908926157768021\n",
      "\n",
      "Epoch 17\n",
      "---------\n",
      "Train loss: 0.004830059440956271\n",
      "Test loss: 1.2268668825136484\n",
      "\n",
      "Epoch 18\n",
      "---------\n",
      "Train loss: 0.004711678847542027\n",
      "Test loss: 1.2957727289746295\n",
      "\n",
      "Epoch 19\n",
      "---------\n",
      "Train loss: 0.004667672410945974\n",
      "Test loss: 1.2738225568349932\n",
      "\n"
     ]
    }
   ],
   "source": [
    "classical_loss_train = []\n",
    "classical_loss_test = []\n",
    "print(\"Untrained test\\n--------\")\n",
    "test_loss = test_model(test_loader, model, loss_function)\n",
    "print()\n",
    "classical_loss_test.append(test_loss)\n",
    "\n",
    "for ix_epoch in range(20):\n",
    "    print(f\"Epoch {ix_epoch}\\n---------\")\n",
    "    train_loss = train_model(train_loader, model, loss_function, optimizer=optimizer)\n",
    "    test_loss = test_model(test_loader, model, loss_function)\n",
    "    print()\n",
    "    classical_loss_train.append(train_loss)\n",
    "    classical_loss_test.append(test_loss)"
   ]
  },
  {
   "cell_type": "markdown",
   "id": "2f44945e",
   "metadata": {},
   "source": [
    "We then use the model to predict the test set, and then compare the results of the prediction to the real values."
   ]
  },
  {
   "cell_type": "code",
   "execution_count": 13,
   "id": "478ffa72",
   "metadata": {},
   "outputs": [],
   "source": [
    "def predict(data_loader, model):\n",
    "    \"\"\"Just like `test_loop` function but keep track of the outputs instead of the loss\n",
    "    function.\n",
    "    \"\"\"\n",
    "    output = torch.tensor([])\n",
    "    model.eval()\n",
    "    with torch.no_grad():\n",
    "        for X, _ in data_loader:\n",
    "            y_star = model(X)\n",
    "            output = torch.cat((output, y_star), 0)\n",
    "    \n",
    "    return output"
   ]
  },
  {
   "cell_type": "code",
   "execution_count": 14,
   "id": "58531cc4",
   "metadata": {},
   "outputs": [
    {
     "name": "stdout",
     "output_type": "stream",
     "text": [
      "      Close_lead1  Model forecast\n",
      "0       31.440840       30.973299\n",
      "1       31.183207       31.029736\n",
      "2       31.364504       31.192234\n",
      "3       30.839695       31.314266\n",
      "4       30.944656       31.144033\n",
      "...           ...             ...\n",
      "2712    77.814888       62.202217\n",
      "2713    78.492363       62.295818\n",
      "2714    79.103050       62.444244\n",
      "2715    78.492363       62.576698\n",
      "2716    78.024811       62.520821\n",
      "\n",
      "[2718 rows x 2 columns]\n"
     ]
    }
   ],
   "source": [
    "train_eval_loader = DataLoader(train_dataset, batch_size=batch_size, shuffle=False)\n",
    "\n",
    "ystar_col = \"Model forecast\"\n",
    "df_train[ystar_col] = predict(train_eval_loader, model).numpy()\n",
    "df_test[ystar_col] = predict(test_loader, model).numpy()\n",
    "\n",
    "df_out = pd.concat((df_train, df_test))[[target, ystar_col]]\n",
    "\n",
    "for c in df_out.columns:\n",
    "    df_out[c] = df_out[c] * target_stdev + target_mean\n",
    "\n",
    "print(df_out)"
   ]
  },
  {
   "cell_type": "code",
   "execution_count": 15,
   "id": "099ed8ce",
   "metadata": {},
   "outputs": [
    {
     "data": {
      "image/png": "[encoded data removed]",
      "text/plain": [
       "<Figure size 864x504 with 1 Axes>"
      ]
     },
     "metadata": {
      "needs_background": "light"
     },
     "output_type": "display_data"
    }
   ],
   "source": [
    "plt.figure(figsize=(12, 7))\n",
    "plt.plot(range(2718), df_out[\"Close_lead1\"], label = \"Real\")\n",
    "plt.plot(range(2718), df_out[\"Model forecast\"], label = \"LSTM Prediction\")\n",
    "plt.ylabel('Stock Price')\n",
    "plt.xlabel('Days')\n",
    "plt.vlines(size, ymin = 30, ymax = 90, label = \"Test set start\", linestyles = \"dashed\")\n",
    "plt.legend()\n",
    "plt.show()"
   ]
  },
  {
   "cell_type": "code",
   "execution_count": 16,
   "id": "ca40c7b3",
   "metadata": {},
   "outputs": [
    {
     "data": {
      "image/png": "[encoded data removed]",
      "text/plain": [
       "<Figure size 576x432 with 1 Axes>"
      ]
     },
     "metadata": {
      "needs_background": "light"
     },
     "output_type": "display_data"
    }
   ],
   "source": [
    "plt.figure(figsize=(8, 6))\n",
    "plt.plot(range(21), classical_loss_test)\n",
    "plt.ylabel('Test Loss')\n",
    "plt.xlabel('Epoch')\n",
    "plt.show()"
   ]
  },
  {
   "cell_type": "code",
   "execution_count": 17,
   "id": "1b7e9df8",
   "metadata": {},
   "outputs": [
    {
     "data": {
      "image/png": "[encoded data removed]",
      "text/plain": [
       "<Figure size 576x432 with 1 Axes>"
      ]
     },
     "metadata": {
      "needs_background": "light"
     },
     "output_type": "display_data"
    }
   ],
   "source": [
    "plt.figure(figsize=(8, 6))\n",
    "plt.plot(range(1, 21), classical_loss_train)\n",
    "plt.ylabel('Train Loss')\n",
    "plt.xlabel('Epoch')\n",
    "plt.show()"
   ]
  },
  {
   "cell_type": "markdown",
   "id": "11e1f720",
   "metadata": {},
   "source": [
    "# Running the QLSTM"
   ]
  },
  {
   "cell_type": "markdown",
   "id": "2f6f3a9e",
   "metadata": {},
   "source": [
    "To implement QLSTM, we then replace the 4 key layers of the LSTM with variational quantum layers enabled by Pennylane. The variational quantum layers are based on the following variational quantum circuits:\n",
    "\n",
    "<img src=\"vqc.jpg\" alt=\"drawing\" width=\"600\"/>\n",
    "\n",
    "Image taken from: Quantum Long Short-Term Memory, https://arxiv.org/pdf/2009.01783.pdf. By Samuel Yen-Chi Chen, Shinjae Yoo, and Yao-Lung L. Fang\n",
    "\n",
    "Thus, the parameters to be trained instead becomes the rotational parameters within the circuits, hence forming a hybrid quantum-classical neural network layer (as the optimizer is classical). In the paper on QLSTM, they show that the trainability of the QLSTM is better as \"learns significantly more information than the LSTM does right after the first training epoch, and its loss decreases more stably and faster than that of its classical counterpart\" (20). Thus, in this study, we hope to show that QLSTM has potential be more accurate and learn more per epoch than its classical counterpart. \n",
    "\n",
    "The code for the QLSTM was first taken from:\n",
    "\n",
    "Example of a QLSTM: https://github.com/rdisipio/qlstm, Riccardo Di Sipio <br>\n",
    "\n",
    "Although we have repurposed it and changed some of it to fit our purposes, for example to follow the variational quantum quantum circuits shown above. We also use the inbuilt Pennylane simulator to run these variational quantum circuits.\n",
    "\n",
    "In the following code, we proceed to train a QLSTM model to predict the stock prices of MRK stock, which will provide a proof of concept that QLSTM not only can be used for stock prices prediction, but also has advantages over its classical counterpart. The number of qubits we use is 4, the number of variational layers used is 1, and the learning rate is 0.05. For the number of qubits, we decided on that value as we wanted to show that it was possible even on a small number of qubits; while the latter 2 parameters were decided on by experimentation on a small number of epochs to see which gave the best results. After that, we proceed to see 3 different graphs that we saw in the classical example."
   ]
  },
  {
   "cell_type": "code",
   "execution_count": 18,
   "id": "307a49c5",
   "metadata": {},
   "outputs": [],
   "source": [
    "from Factory import QShallowRegressionLSTM"
   ]
  },
  {
   "cell_type": "code",
   "execution_count": 19,
   "id": "850bac7a",
   "metadata": {},
   "outputs": [
    {
     "name": "stdout",
     "output_type": "stream",
     "text": [
      "weight_shapes = (n_qlayers, n_vrotations, n_qubits) = (1, 3, 4)\n"
     ]
    }
   ],
   "source": [
    "learning_rate = 0.05\n",
    "num_hidden_units = 16\n",
    "\n",
    "Qmodel = QShallowRegressionLSTM(num_sensors=len(features), hidden_units=num_hidden_units, n_qubits=4)\n",
    "loss_function = nn.MSELoss()\n",
    "optimizer = torch.optim.Adagrad(Qmodel.parameters(), lr=learning_rate)"
   ]
  },
  {
   "cell_type": "code",
   "execution_count": 20,
   "id": "02505957",
   "metadata": {},
   "outputs": [
    {
     "name": "stdout",
     "output_type": "stream",
     "text": [
      "Untrained test\n",
      "--------\n",
      "Test loss: 5.749397767028681\n",
      "Execution time 221.97802543640137\n",
      "Epoch 0\n",
      "---------\n"
     ]
    },
    {
     "name": "stderr",
     "output_type": "stream",
     "text": [
      "C:\\Users\\jonas\\Anaconda3\\envs\\stock2\\lib\\site-packages\\torch\\autograd\\__init__.py:156: UserWarning: Casting complex values to real discards the imaginary part (Triggered internally at  ..\\aten\\src\\ATen\\native\\Copy.cpp:244.)\n",
      "  allow_unreachable=True, accumulate_grad=True)  # allow_unreachable flag\n"
     ]
    },
    {
     "name": "stdout",
     "output_type": "stream",
     "text": [
      "Train loss: 0.0362677785140479\n",
      "Test loss: 1.5350593695408223\n",
      "Execution time 854.5387494564056\n",
      "Epoch 1\n",
      "---------\n",
      "Train loss: 0.00763111063983383\n",
      "Test loss: 1.3079982172748683\n",
      "Execution time 794.1392629146576\n",
      "Epoch 2\n",
      "---------\n",
      "Train loss: 0.006131614386858751\n",
      "Test loss: 1.2307757181211159\n",
      "Execution time 771.5494892597198\n",
      "Epoch 3\n",
      "---------\n",
      "Train loss: 0.005225513544574788\n",
      "Test loss: 1.1737595624973196\n",
      "Execution time 780.5566937923431\n",
      "Epoch 4\n",
      "---------\n",
      "Train loss: 0.004846298029163997\n",
      "Test loss: 1.1181972907542879\n",
      "Execution time 792.9920270442963\n",
      "Epoch 5\n",
      "---------\n",
      "Train loss: 0.004460481337164362\n",
      "Test loss: 1.0556183451479024\n",
      "Execution time 790.0565214157104\n",
      "Epoch 6\n",
      "---------\n",
      "Train loss: 0.004314487854580913\n",
      "Test loss: 1.018757504560589\n",
      "Execution time 798.9793784618378\n",
      "Epoch 7\n",
      "---------\n",
      "Train loss: 0.004173775238775256\n",
      "Test loss: 0.997905093230617\n",
      "Execution time 789.7863173484802\n",
      "Epoch 8\n",
      "---------\n",
      "Train loss: 0.004088529027793307\n",
      "Test loss: 0.9729464835264069\n",
      "Execution time 786.0960829257965\n",
      "Epoch 9\n",
      "---------\n",
      "Train loss: 0.003935929916031294\n",
      "Test loss: 0.9650974670409467\n",
      "Execution time 782.0186467170715\n",
      "Epoch 10\n",
      "---------\n",
      "Train loss: 0.003952342550323529\n",
      "Test loss: 0.9474581389791686\n",
      "Execution time 786.7698528766632\n",
      "Epoch 11\n",
      "---------\n",
      "Train loss: 0.0039079149829233766\n",
      "Test loss: 0.929747108397494\n",
      "Execution time 783.1338486671448\n",
      "Epoch 12\n",
      "---------\n",
      "Train loss: 0.003827890990091497\n",
      "Test loss: 0.9076729455842462\n",
      "Execution time 786.4615321159363\n",
      "Epoch 13\n",
      "---------\n",
      "Train loss: 0.003840147228417923\n",
      "Test loss: 0.917915125172722\n",
      "Execution time 782.9253287315369\n",
      "Epoch 14\n",
      "---------\n",
      "Train loss: 0.0038242092280940995\n",
      "Test loss: 0.9090822620901964\n",
      "Execution time 783.3149194717407\n",
      "Epoch 15\n",
      "---------\n",
      "Train loss: 0.003723010728506171\n",
      "Test loss: 0.9151338291870124\n",
      "Execution time 796.4678721427917\n",
      "Epoch 16\n",
      "---------\n",
      "Train loss: 0.00373834473815755\n",
      "Test loss: 0.9070554893878481\n",
      "Execution time 810.1620533466339\n",
      "Epoch 17\n",
      "---------\n",
      "Train loss: 0.0037561861320845654\n",
      "Test loss: 0.8890233043071448\n",
      "Execution time 819.8024172782898\n",
      "Epoch 18\n",
      "---------\n",
      "Train loss: 0.0037606349726847124\n",
      "Test loss: 0.885082684004062\n",
      "Execution time 821.0971810817719\n",
      "Epoch 19\n",
      "---------\n",
      "Train loss: 0.0037353959562821636\n",
      "Test loss: 0.8909675413851953\n",
      "Execution time 820.1457583904266\n"
     ]
    }
   ],
   "source": [
    "quantum_loss_train = []\n",
    "quantum_loss_test = []\n",
    "print(\"Untrained test\\n--------\")\n",
    "start = time.time()\n",
    "test_loss = test_model(test_loader, Qmodel, loss_function)\n",
    "end = time.time()\n",
    "print(\"Execution time\", end - start)\n",
    "quantum_loss_test.append(test_loss)\n",
    "\n",
    "for ix_epoch in range(20):\n",
    "    print(f\"Epoch {ix_epoch}\\n---------\")\n",
    "    start = time.time()\n",
    "    train_loss = train_model(train_loader, Qmodel, loss_function, optimizer=optimizer)\n",
    "    test_loss = test_model(test_loader, Qmodel, loss_function)\n",
    "    end = time.time()\n",
    "    print(\"Execution time\", end - start)\n",
    "    quantum_loss_train.append(train_loss)\n",
    "    quantum_loss_test.append(test_loss)"
   ]
  },
  {
   "cell_type": "code",
   "execution_count": 21,
   "id": "3db0a1a9",
   "metadata": {},
   "outputs": [
    {
     "name": "stdout",
     "output_type": "stream",
     "text": [
      "      Close_lead1  Model forecast\n",
      "0       31.440840       31.017239\n",
      "1       31.183207       31.400749\n",
      "2       31.364504       31.228424\n",
      "3       30.839695       31.402672\n",
      "4       30.944656       31.000290\n",
      "...           ...             ...\n",
      "2712    77.814888       65.066818\n",
      "2713    78.492363       65.089417\n",
      "2714    79.103050       65.124573\n",
      "2715    78.492363       65.147812\n",
      "2716    78.024811       65.149887\n",
      "\n",
      "[2718 rows x 2 columns]\n"
     ]
    }
   ],
   "source": [
    "train_eval_loader = DataLoader(train_dataset, batch_size=batch_size, shuffle=False)\n",
    "\n",
    "ystar_col_Q = \"Model forecast\"\n",
    "df_train[ystar_col_Q] = predict(train_eval_loader, Qmodel).numpy()\n",
    "df_test[ystar_col_Q] = predict(test_loader, Qmodel).numpy()\n",
    "\n",
    "df_out_Q = pd.concat((df_train, df_test))[[target, ystar_col_Q]]\n",
    "\n",
    "for c in df_out_Q.columns:\n",
    "    df_out_Q[c] = df_out_Q[c] * target_stdev + target_mean\n",
    "\n",
    "print(df_out_Q)"
   ]
  },
  {
   "cell_type": "code",
   "execution_count": 22,
   "id": "b194cfa2",
   "metadata": {},
   "outputs": [
    {
     "data": {
      "image/png": "[encoded data removed]",
      "text/plain": [
       "<Figure size 864x504 with 1 Axes>"
      ]
     },
     "metadata": {
      "needs_background": "light"
     },
     "output_type": "display_data"
    }
   ],
   "source": [
    "plt.figure(figsize=(12, 7))\n",
    "plt.plot(range(2718), df_out_Q[\"Close_lead1\"], label = \"Real\")\n",
    "plt.plot(range(2718), df_out_Q[\"Model forecast\"], label = \"QLSTM Prediction\")\n",
    "plt.ylabel('Stock Price')\n",
    "plt.xlabel('Days')\n",
    "plt.vlines(size, ymin = 30, ymax = 90, label = \"Test set start\", linestyles = \"dashed\")\n",
    "plt.legend()\n",
    "plt.show()"
   ]
  },
  {
   "cell_type": "code",
   "execution_count": 23,
   "id": "0ea7b23a",
   "metadata": {},
   "outputs": [
    {
     "data": {
      "image/png": "[encoded data removed]",
      "text/plain": [
       "<Figure size 576x432 with 1 Axes>"
      ]
     },
     "metadata": {
      "needs_background": "light"
     },
     "output_type": "display_data"
    }
   ],
   "source": [
    "plt.figure(figsize=(8, 6))\n",
    "plt.plot(range(21), quantum_loss_test)\n",
    "plt.ylabel('Test Loss')\n",
    "plt.xlabel('Epoch')\n",
    "plt.show()"
   ]
  },
  {
   "cell_type": "code",
   "execution_count": 24,
   "id": "b786881d",
   "metadata": {},
   "outputs": [
    {
     "data": {
      "image/png": "[encoded data removed]",
      "text/plain": [
       "<Figure size 576x432 with 1 Axes>"
      ]
     },
     "metadata": {
      "needs_background": "light"
     },
     "output_type": "display_data"
    }
   ],
   "source": [
    "plt.figure(figsize=(8, 6))\n",
    "plt.plot(range(1,21), quantum_loss_train)\n",
    "plt.ylabel('Test Loss')\n",
    "plt.xlabel('Epoch')\n",
    "plt.show()"
   ]
  },
  {
   "cell_type": "markdown",
   "id": "ee3f0f4e",
   "metadata": {},
   "source": [
    "# PCA"
   ]
  },
  {
   "cell_type": "markdown",
   "id": "7b9d460f",
   "metadata": {},
   "source": [
    "We run the PCA on the training set, then transform the test set with the same transformation did on the training set."
   ]
  },
  {
   "cell_type": "code",
   "execution_count": 29,
   "id": "1df4bd1c",
   "metadata": {},
   "outputs": [],
   "source": [
    "features_pca = ['PCA1', 'PCA2','PCA3','PCA4','PCA5','PCA6','PCA7','PCA8','PCA9','PCA10', 'PCA11']\n",
    "n_comps = 11\n",
    "pca = PCA(n_components=n_comps)\n",
    "principalComponents = pca.fit_transform(df_train)\n",
    "principalDf = pd.DataFrame(data = principalComponents, columns = features_pca)"
   ]
  },
  {
   "cell_type": "code",
   "execution_count": 30,
   "id": "0e1fb3e1",
   "metadata": {},
   "outputs": [
    {
     "data": {
      "text/html": [
       "<div>\n",
       "<style scoped>\n",
       "    .dataframe tbody tr th:only-of-type {\n",
       "        vertical-align: middle;\n",
       "    }\n",
       "\n",
       "    .dataframe tbody tr th {\n",
       "        vertical-align: top;\n",
       "    }\n",
       "\n",
       "    .dataframe thead th {\n",
       "        text-align: right;\n",
       "    }\n",
       "</style>\n",
       "<table border=\"1\" class=\"dataframe\">\n",
       "  <thead>\n",
       "    <tr style=\"text-align: right;\">\n",
       "      <th></th>\n",
       "      <th>PCA1</th>\n",
       "      <th>PCA2</th>\n",
       "      <th>PCA3</th>\n",
       "      <th>PCA4</th>\n",
       "      <th>PCA5</th>\n",
       "      <th>PCA6</th>\n",
       "      <th>PCA7</th>\n",
       "      <th>PCA8</th>\n",
       "      <th>PCA9</th>\n",
       "      <th>PCA10</th>\n",
       "      <th>PCA11</th>\n",
       "    </tr>\n",
       "  </thead>\n",
       "  <tbody>\n",
       "    <tr>\n",
       "      <th>0</th>\n",
       "      <td>-6.511077</td>\n",
       "      <td>-1.087800</td>\n",
       "      <td>0.125919</td>\n",
       "      <td>0.599002</td>\n",
       "      <td>-0.685412</td>\n",
       "      <td>-0.648314</td>\n",
       "      <td>0.748278</td>\n",
       "      <td>1.181127</td>\n",
       "      <td>2.704455</td>\n",
       "      <td>0.630954</td>\n",
       "      <td>1.154219</td>\n",
       "    </tr>\n",
       "    <tr>\n",
       "      <th>1</th>\n",
       "      <td>-6.483234</td>\n",
       "      <td>-1.004883</td>\n",
       "      <td>0.473670</td>\n",
       "      <td>1.096405</td>\n",
       "      <td>-0.941221</td>\n",
       "      <td>-0.135322</td>\n",
       "      <td>0.876449</td>\n",
       "      <td>1.157164</td>\n",
       "      <td>2.552086</td>\n",
       "      <td>0.553925</td>\n",
       "      <td>1.118869</td>\n",
       "    </tr>\n",
       "    <tr>\n",
       "      <th>2</th>\n",
       "      <td>-6.399903</td>\n",
       "      <td>-1.158199</td>\n",
       "      <td>-0.069644</td>\n",
       "      <td>0.743063</td>\n",
       "      <td>-0.953538</td>\n",
       "      <td>-1.220648</td>\n",
       "      <td>0.591149</td>\n",
       "      <td>1.081628</td>\n",
       "      <td>2.672059</td>\n",
       "      <td>0.568244</td>\n",
       "      <td>1.095739</td>\n",
       "    </tr>\n",
       "    <tr>\n",
       "      <th>3</th>\n",
       "      <td>-6.348495</td>\n",
       "      <td>-1.161421</td>\n",
       "      <td>-0.080335</td>\n",
       "      <td>0.838093</td>\n",
       "      <td>-1.038668</td>\n",
       "      <td>-1.269391</td>\n",
       "      <td>0.522786</td>\n",
       "      <td>1.055933</td>\n",
       "      <td>2.638269</td>\n",
       "      <td>0.517327</td>\n",
       "      <td>1.073604</td>\n",
       "    </tr>\n",
       "    <tr>\n",
       "      <th>4</th>\n",
       "      <td>-6.451226</td>\n",
       "      <td>-1.120839</td>\n",
       "      <td>0.101131</td>\n",
       "      <td>0.929450</td>\n",
       "      <td>-1.056965</td>\n",
       "      <td>-1.037839</td>\n",
       "      <td>0.563286</td>\n",
       "      <td>1.061568</td>\n",
       "      <td>2.603828</td>\n",
       "      <td>0.498830</td>\n",
       "      <td>1.058753</td>\n",
       "    </tr>\n",
       "    <tr>\n",
       "      <th>...</th>\n",
       "      <td>...</td>\n",
       "      <td>...</td>\n",
       "      <td>...</td>\n",
       "      <td>...</td>\n",
       "      <td>...</td>\n",
       "      <td>...</td>\n",
       "      <td>...</td>\n",
       "      <td>...</td>\n",
       "      <td>...</td>\n",
       "      <td>...</td>\n",
       "      <td>...</td>\n",
       "    </tr>\n",
       "    <tr>\n",
       "      <th>1816</th>\n",
       "      <td>6.623752</td>\n",
       "      <td>-1.326538</td>\n",
       "      <td>1.423266</td>\n",
       "      <td>-0.404324</td>\n",
       "      <td>-0.036234</td>\n",
       "      <td>-1.002709</td>\n",
       "      <td>0.382416</td>\n",
       "      <td>0.694107</td>\n",
       "      <td>-0.954176</td>\n",
       "      <td>1.629782</td>\n",
       "      <td>0.336399</td>\n",
       "    </tr>\n",
       "    <tr>\n",
       "      <th>1817</th>\n",
       "      <td>7.267678</td>\n",
       "      <td>2.360659</td>\n",
       "      <td>2.078235</td>\n",
       "      <td>1.258613</td>\n",
       "      <td>-0.516596</td>\n",
       "      <td>0.778012</td>\n",
       "      <td>1.004416</td>\n",
       "      <td>0.680425</td>\n",
       "      <td>-1.140363</td>\n",
       "      <td>1.366352</td>\n",
       "      <td>0.177020</td>\n",
       "    </tr>\n",
       "    <tr>\n",
       "      <th>1818</th>\n",
       "      <td>7.635572</td>\n",
       "      <td>2.777862</td>\n",
       "      <td>0.900470</td>\n",
       "      <td>0.213588</td>\n",
       "      <td>-2.493102</td>\n",
       "      <td>-0.052549</td>\n",
       "      <td>0.826853</td>\n",
       "      <td>0.698938</td>\n",
       "      <td>-1.039660</td>\n",
       "      <td>1.326580</td>\n",
       "      <td>0.104682</td>\n",
       "    </tr>\n",
       "    <tr>\n",
       "      <th>1819</th>\n",
       "      <td>7.461854</td>\n",
       "      <td>-0.435507</td>\n",
       "      <td>0.914454</td>\n",
       "      <td>1.629300</td>\n",
       "      <td>-0.961604</td>\n",
       "      <td>-0.783789</td>\n",
       "      <td>0.827286</td>\n",
       "      <td>0.340691</td>\n",
       "      <td>-1.068279</td>\n",
       "      <td>1.159961</td>\n",
       "      <td>0.115054</td>\n",
       "    </tr>\n",
       "    <tr>\n",
       "      <th>1820</th>\n",
       "      <td>7.526527</td>\n",
       "      <td>2.528362</td>\n",
       "      <td>0.773204</td>\n",
       "      <td>3.437567</td>\n",
       "      <td>1.327936</td>\n",
       "      <td>-2.428677</td>\n",
       "      <td>0.820289</td>\n",
       "      <td>0.374754</td>\n",
       "      <td>-0.818458</td>\n",
       "      <td>1.004874</td>\n",
       "      <td>0.126245</td>\n",
       "    </tr>\n",
       "  </tbody>\n",
       "</table>\n",
       "<p>1821 rows × 11 columns</p>\n",
       "</div>"
      ],
      "text/plain": [
       "          PCA1      PCA2      PCA3      PCA4      PCA5      PCA6      PCA7  \\\n",
       "0    -6.511077 -1.087800  0.125919  0.599002 -0.685412 -0.648314  0.748278   \n",
       "1    -6.483234 -1.004883  0.473670  1.096405 -0.941221 -0.135322  0.876449   \n",
       "2    -6.399903 -1.158199 -0.069644  0.743063 -0.953538 -1.220648  0.591149   \n",
       "3    -6.348495 -1.161421 -0.080335  0.838093 -1.038668 -1.269391  0.522786   \n",
       "4    -6.451226 -1.120839  0.101131  0.929450 -1.056965 -1.037839  0.563286   \n",
       "...        ...       ...       ...       ...       ...       ...       ...   \n",
       "1816  6.623752 -1.326538  1.423266 -0.404324 -0.036234 -1.002709  0.382416   \n",
       "1817  7.267678  2.360659  2.078235  1.258613 -0.516596  0.778012  1.004416   \n",
       "1818  7.635572  2.777862  0.900470  0.213588 -2.493102 -0.052549  0.826853   \n",
       "1819  7.461854 -0.435507  0.914454  1.629300 -0.961604 -0.783789  0.827286   \n",
       "1820  7.526527  2.528362  0.773204  3.437567  1.327936 -2.428677  0.820289   \n",
       "\n",
       "          PCA8      PCA9     PCA10     PCA11  \n",
       "0     1.181127  2.704455  0.630954  1.154219  \n",
       "1     1.157164  2.552086  0.553925  1.118869  \n",
       "2     1.081628  2.672059  0.568244  1.095739  \n",
       "3     1.055933  2.638269  0.517327  1.073604  \n",
       "4     1.061568  2.603828  0.498830  1.058753  \n",
       "...        ...       ...       ...       ...  \n",
       "1816  0.694107 -0.954176  1.629782  0.336399  \n",
       "1817  0.680425 -1.140363  1.366352  0.177020  \n",
       "1818  0.698938 -1.039660  1.326580  0.104682  \n",
       "1819  0.340691 -1.068279  1.159961  0.115054  \n",
       "1820  0.374754 -0.818458  1.004874  0.126245  \n",
       "\n",
       "[1821 rows x 11 columns]"
      ]
     },
     "execution_count": 30,
     "metadata": {},
     "output_type": "execute_result"
    }
   ],
   "source": [
    "principalDf"
   ]
  },
  {
   "cell_type": "code",
   "execution_count": 31,
   "id": "f2ebb0c8",
   "metadata": {},
   "outputs": [
    {
     "data": {
      "text/html": [
       "<div>\n",
       "<style scoped>\n",
       "    .dataframe tbody tr th:only-of-type {\n",
       "        vertical-align: middle;\n",
       "    }\n",
       "\n",
       "    .dataframe tbody tr th {\n",
       "        vertical-align: top;\n",
       "    }\n",
       "\n",
       "    .dataframe thead th {\n",
       "        text-align: right;\n",
       "    }\n",
       "</style>\n",
       "<table border=\"1\" class=\"dataframe\">\n",
       "  <thead>\n",
       "    <tr style=\"text-align: right;\">\n",
       "      <th></th>\n",
       "      <th>PCA1</th>\n",
       "      <th>PCA2</th>\n",
       "      <th>PCA3</th>\n",
       "      <th>PCA4</th>\n",
       "      <th>PCA5</th>\n",
       "      <th>PCA6</th>\n",
       "      <th>PCA7</th>\n",
       "      <th>PCA8</th>\n",
       "      <th>PCA9</th>\n",
       "      <th>PCA10</th>\n",
       "      <th>PCA11</th>\n",
       "      <th>Close_lead1</th>\n",
       "    </tr>\n",
       "  </thead>\n",
       "  <tbody>\n",
       "    <tr>\n",
       "      <th>0</th>\n",
       "      <td>-6.511077</td>\n",
       "      <td>-1.087800</td>\n",
       "      <td>0.125919</td>\n",
       "      <td>0.599002</td>\n",
       "      <td>-0.685412</td>\n",
       "      <td>-0.648314</td>\n",
       "      <td>0.748278</td>\n",
       "      <td>1.181127</td>\n",
       "      <td>2.704455</td>\n",
       "      <td>0.630954</td>\n",
       "      <td>1.154219</td>\n",
       "      <td>-1.323510</td>\n",
       "    </tr>\n",
       "    <tr>\n",
       "      <th>1</th>\n",
       "      <td>-6.483234</td>\n",
       "      <td>-1.004883</td>\n",
       "      <td>0.473670</td>\n",
       "      <td>1.096405</td>\n",
       "      <td>-0.941221</td>\n",
       "      <td>-0.135322</td>\n",
       "      <td>0.876449</td>\n",
       "      <td>1.157164</td>\n",
       "      <td>2.552086</td>\n",
       "      <td>0.553925</td>\n",
       "      <td>1.118869</td>\n",
       "      <td>-1.350606</td>\n",
       "    </tr>\n",
       "    <tr>\n",
       "      <th>2</th>\n",
       "      <td>-6.399903</td>\n",
       "      <td>-1.158199</td>\n",
       "      <td>-0.069644</td>\n",
       "      <td>0.743063</td>\n",
       "      <td>-0.953538</td>\n",
       "      <td>-1.220648</td>\n",
       "      <td>0.591149</td>\n",
       "      <td>1.081628</td>\n",
       "      <td>2.672059</td>\n",
       "      <td>0.568244</td>\n",
       "      <td>1.095739</td>\n",
       "      <td>-1.331539</td>\n",
       "    </tr>\n",
       "    <tr>\n",
       "      <th>3</th>\n",
       "      <td>-6.348495</td>\n",
       "      <td>-1.161421</td>\n",
       "      <td>-0.080335</td>\n",
       "      <td>0.838093</td>\n",
       "      <td>-1.038668</td>\n",
       "      <td>-1.269391</td>\n",
       "      <td>0.522786</td>\n",
       "      <td>1.055933</td>\n",
       "      <td>2.638269</td>\n",
       "      <td>0.517327</td>\n",
       "      <td>1.073604</td>\n",
       "      <td>-1.386733</td>\n",
       "    </tr>\n",
       "    <tr>\n",
       "      <th>4</th>\n",
       "      <td>-6.451226</td>\n",
       "      <td>-1.120839</td>\n",
       "      <td>0.101131</td>\n",
       "      <td>0.929450</td>\n",
       "      <td>-1.056965</td>\n",
       "      <td>-1.037839</td>\n",
       "      <td>0.563286</td>\n",
       "      <td>1.061568</td>\n",
       "      <td>2.603828</td>\n",
       "      <td>0.498830</td>\n",
       "      <td>1.058753</td>\n",
       "      <td>-1.375694</td>\n",
       "    </tr>\n",
       "    <tr>\n",
       "      <th>...</th>\n",
       "      <td>...</td>\n",
       "      <td>...</td>\n",
       "      <td>...</td>\n",
       "      <td>...</td>\n",
       "      <td>...</td>\n",
       "      <td>...</td>\n",
       "      <td>...</td>\n",
       "      <td>...</td>\n",
       "      <td>...</td>\n",
       "      <td>...</td>\n",
       "      <td>...</td>\n",
       "      <td>...</td>\n",
       "    </tr>\n",
       "    <tr>\n",
       "      <th>1816</th>\n",
       "      <td>6.623752</td>\n",
       "      <td>-1.326538</td>\n",
       "      <td>1.423266</td>\n",
       "      <td>-0.404324</td>\n",
       "      <td>-0.036234</td>\n",
       "      <td>-1.002709</td>\n",
       "      <td>0.382416</td>\n",
       "      <td>0.694107</td>\n",
       "      <td>-0.954176</td>\n",
       "      <td>1.629782</td>\n",
       "      <td>0.336399</td>\n",
       "      <td>1.810552</td>\n",
       "    </tr>\n",
       "    <tr>\n",
       "      <th>1817</th>\n",
       "      <td>7.267678</td>\n",
       "      <td>2.360659</td>\n",
       "      <td>2.078235</td>\n",
       "      <td>1.258613</td>\n",
       "      <td>-0.516596</td>\n",
       "      <td>0.778012</td>\n",
       "      <td>1.004416</td>\n",
       "      <td>0.680425</td>\n",
       "      <td>-1.140363</td>\n",
       "      <td>1.366352</td>\n",
       "      <td>0.177020</td>\n",
       "      <td>1.888829</td>\n",
       "    </tr>\n",
       "    <tr>\n",
       "      <th>1818</th>\n",
       "      <td>7.635572</td>\n",
       "      <td>2.777862</td>\n",
       "      <td>0.900470</td>\n",
       "      <td>0.213588</td>\n",
       "      <td>-2.493102</td>\n",
       "      <td>-0.052549</td>\n",
       "      <td>0.826853</td>\n",
       "      <td>0.698938</td>\n",
       "      <td>-1.039660</td>\n",
       "      <td>1.326580</td>\n",
       "      <td>0.104682</td>\n",
       "      <td>1.787471</td>\n",
       "    </tr>\n",
       "    <tr>\n",
       "      <th>1819</th>\n",
       "      <td>7.461854</td>\n",
       "      <td>-0.435507</td>\n",
       "      <td>0.914454</td>\n",
       "      <td>1.629300</td>\n",
       "      <td>-0.961604</td>\n",
       "      <td>-0.783789</td>\n",
       "      <td>0.827286</td>\n",
       "      <td>0.340691</td>\n",
       "      <td>-1.068279</td>\n",
       "      <td>1.159961</td>\n",
       "      <td>0.115054</td>\n",
       "      <td>1.745322</td>\n",
       "    </tr>\n",
       "    <tr>\n",
       "      <th>1820</th>\n",
       "      <td>7.526527</td>\n",
       "      <td>2.528362</td>\n",
       "      <td>0.773204</td>\n",
       "      <td>3.437567</td>\n",
       "      <td>1.327936</td>\n",
       "      <td>-2.428677</td>\n",
       "      <td>0.820289</td>\n",
       "      <td>0.374754</td>\n",
       "      <td>-0.818458</td>\n",
       "      <td>1.004874</td>\n",
       "      <td>0.126245</td>\n",
       "      <td>1.757365</td>\n",
       "    </tr>\n",
       "  </tbody>\n",
       "</table>\n",
       "<p>1821 rows × 12 columns</p>\n",
       "</div>"
      ],
      "text/plain": [
       "          PCA1      PCA2      PCA3      PCA4      PCA5      PCA6      PCA7  \\\n",
       "0    -6.511077 -1.087800  0.125919  0.599002 -0.685412 -0.648314  0.748278   \n",
       "1    -6.483234 -1.004883  0.473670  1.096405 -0.941221 -0.135322  0.876449   \n",
       "2    -6.399903 -1.158199 -0.069644  0.743063 -0.953538 -1.220648  0.591149   \n",
       "3    -6.348495 -1.161421 -0.080335  0.838093 -1.038668 -1.269391  0.522786   \n",
       "4    -6.451226 -1.120839  0.101131  0.929450 -1.056965 -1.037839  0.563286   \n",
       "...        ...       ...       ...       ...       ...       ...       ...   \n",
       "1816  6.623752 -1.326538  1.423266 -0.404324 -0.036234 -1.002709  0.382416   \n",
       "1817  7.267678  2.360659  2.078235  1.258613 -0.516596  0.778012  1.004416   \n",
       "1818  7.635572  2.777862  0.900470  0.213588 -2.493102 -0.052549  0.826853   \n",
       "1819  7.461854 -0.435507  0.914454  1.629300 -0.961604 -0.783789  0.827286   \n",
       "1820  7.526527  2.528362  0.773204  3.437567  1.327936 -2.428677  0.820289   \n",
       "\n",
       "          PCA8      PCA9     PCA10     PCA11  Close_lead1  \n",
       "0     1.181127  2.704455  0.630954  1.154219    -1.323510  \n",
       "1     1.157164  2.552086  0.553925  1.118869    -1.350606  \n",
       "2     1.081628  2.672059  0.568244  1.095739    -1.331539  \n",
       "3     1.055933  2.638269  0.517327  1.073604    -1.386733  \n",
       "4     1.061568  2.603828  0.498830  1.058753    -1.375694  \n",
       "...        ...       ...       ...       ...          ...  \n",
       "1816  0.694107 -0.954176  1.629782  0.336399     1.810552  \n",
       "1817  0.680425 -1.140363  1.366352  0.177020     1.888829  \n",
       "1818  0.698938 -1.039660  1.326580  0.104682     1.787471  \n",
       "1819  0.340691 -1.068279  1.159961  0.115054     1.745322  \n",
       "1820  0.374754 -0.818458  1.004874  0.126245     1.757365  \n",
       "\n",
       "[1821 rows x 12 columns]"
      ]
     },
     "execution_count": 31,
     "metadata": {},
     "output_type": "execute_result"
    }
   ],
   "source": [
    "finalDf = pd.concat([principalDf, df_train[['Close_lead1']]], axis = 1)\n",
    "finalDf"
   ]
  },
  {
   "cell_type": "code",
   "execution_count": 32,
   "id": "e89a90b1",
   "metadata": {},
   "outputs": [],
   "source": [
    "principalComponentstest = pca.transform(df_test)\n",
    "principalDftest = pd.DataFrame(data = principalComponentstest, columns = features_pca)"
   ]
  },
  {
   "cell_type": "code",
   "execution_count": 33,
   "id": "6a7ecca5",
   "metadata": {},
   "outputs": [
    {
     "data": {
      "text/html": [
       "<div>\n",
       "<style scoped>\n",
       "    .dataframe tbody tr th:only-of-type {\n",
       "        vertical-align: middle;\n",
       "    }\n",
       "\n",
       "    .dataframe tbody tr th {\n",
       "        vertical-align: top;\n",
       "    }\n",
       "\n",
       "    .dataframe thead th {\n",
       "        text-align: right;\n",
       "    }\n",
       "</style>\n",
       "<table border=\"1\" class=\"dataframe\">\n",
       "  <thead>\n",
       "    <tr style=\"text-align: right;\">\n",
       "      <th></th>\n",
       "      <th>PCA1</th>\n",
       "      <th>PCA2</th>\n",
       "      <th>PCA3</th>\n",
       "      <th>PCA4</th>\n",
       "      <th>PCA5</th>\n",
       "      <th>PCA6</th>\n",
       "      <th>PCA7</th>\n",
       "      <th>PCA8</th>\n",
       "      <th>PCA9</th>\n",
       "      <th>PCA10</th>\n",
       "      <th>PCA11</th>\n",
       "      <th>Close_lead1</th>\n",
       "    </tr>\n",
       "  </thead>\n",
       "  <tbody>\n",
       "    <tr>\n",
       "      <th>0</th>\n",
       "      <td>7.526732</td>\n",
       "      <td>2.528351</td>\n",
       "      <td>0.773147</td>\n",
       "      <td>3.437613</td>\n",
       "      <td>1.327911</td>\n",
       "      <td>-2.428680</td>\n",
       "      <td>0.820319</td>\n",
       "      <td>0.374874</td>\n",
       "      <td>-0.818581</td>\n",
       "      <td>1.004893</td>\n",
       "      <td>0.126212</td>\n",
       "      <td>1.757365</td>\n",
       "    </tr>\n",
       "    <tr>\n",
       "      <th>1</th>\n",
       "      <td>7.521495</td>\n",
       "      <td>-1.426115</td>\n",
       "      <td>0.340728</td>\n",
       "      <td>1.463575</td>\n",
       "      <td>-1.459318</td>\n",
       "      <td>-1.430441</td>\n",
       "      <td>0.584557</td>\n",
       "      <td>0.153640</td>\n",
       "      <td>-0.966412</td>\n",
       "      <td>1.064126</td>\n",
       "      <td>0.144945</td>\n",
       "      <td>1.655003</td>\n",
       "    </tr>\n",
       "    <tr>\n",
       "      <th>2</th>\n",
       "      <td>7.418141</td>\n",
       "      <td>-0.577777</td>\n",
       "      <td>0.531004</td>\n",
       "      <td>1.442802</td>\n",
       "      <td>-1.787593</td>\n",
       "      <td>-1.100816</td>\n",
       "      <td>0.742307</td>\n",
       "      <td>0.217523</td>\n",
       "      <td>-0.988011</td>\n",
       "      <td>1.103149</td>\n",
       "      <td>0.173954</td>\n",
       "      <td>1.662028</td>\n",
       "    </tr>\n",
       "    <tr>\n",
       "      <th>3</th>\n",
       "      <td>7.420616</td>\n",
       "      <td>-1.407057</td>\n",
       "      <td>0.496943</td>\n",
       "      <td>1.526648</td>\n",
       "      <td>-1.515851</td>\n",
       "      <td>-1.382048</td>\n",
       "      <td>0.658876</td>\n",
       "      <td>0.086887</td>\n",
       "      <td>-0.964263</td>\n",
       "      <td>1.097465</td>\n",
       "      <td>0.189355</td>\n",
       "      <td>1.578734</td>\n",
       "    </tr>\n",
       "    <tr>\n",
       "      <th>4</th>\n",
       "      <td>7.275252</td>\n",
       "      <td>-1.417176</td>\n",
       "      <td>0.562064</td>\n",
       "      <td>1.434534</td>\n",
       "      <td>-1.491486</td>\n",
       "      <td>-1.507134</td>\n",
       "      <td>0.671099</td>\n",
       "      <td>0.109794</td>\n",
       "      <td>-0.976144</td>\n",
       "      <td>1.220289</td>\n",
       "      <td>0.250170</td>\n",
       "      <td>1.621886</td>\n",
       "    </tr>\n",
       "    <tr>\n",
       "      <th>...</th>\n",
       "      <td>...</td>\n",
       "      <td>...</td>\n",
       "      <td>...</td>\n",
       "      <td>...</td>\n",
       "      <td>...</td>\n",
       "      <td>...</td>\n",
       "      <td>...</td>\n",
       "      <td>...</td>\n",
       "      <td>...</td>\n",
       "      <td>...</td>\n",
       "      <td>...</td>\n",
       "      <td>...</td>\n",
       "    </tr>\n",
       "    <tr>\n",
       "      <th>892</th>\n",
       "      <td>15.938336</td>\n",
       "      <td>-0.651294</td>\n",
       "      <td>0.580320</td>\n",
       "      <td>0.854994</td>\n",
       "      <td>-0.855431</td>\n",
       "      <td>0.078159</td>\n",
       "      <td>1.665143</td>\n",
       "      <td>-1.911759</td>\n",
       "      <td>-2.601097</td>\n",
       "      <td>2.438954</td>\n",
       "      <td>-2.770145</td>\n",
       "      <td>3.553705</td>\n",
       "    </tr>\n",
       "    <tr>\n",
       "      <th>893</th>\n",
       "      <td>16.039848</td>\n",
       "      <td>0.887400</td>\n",
       "      <td>0.040317</td>\n",
       "      <td>0.398763</td>\n",
       "      <td>-1.751729</td>\n",
       "      <td>-0.431849</td>\n",
       "      <td>1.526871</td>\n",
       "      <td>-1.781041</td>\n",
       "      <td>-2.526655</td>\n",
       "      <td>2.417591</td>\n",
       "      <td>-2.794210</td>\n",
       "      <td>3.624956</td>\n",
       "    </tr>\n",
       "    <tr>\n",
       "      <th>894</th>\n",
       "      <td>16.339106</td>\n",
       "      <td>2.400871</td>\n",
       "      <td>-0.244075</td>\n",
       "      <td>0.157404</td>\n",
       "      <td>-2.499612</td>\n",
       "      <td>-0.263411</td>\n",
       "      <td>1.602983</td>\n",
       "      <td>-1.790040</td>\n",
       "      <td>-2.565362</td>\n",
       "      <td>2.327169</td>\n",
       "      <td>-2.676955</td>\n",
       "      <td>3.689183</td>\n",
       "    </tr>\n",
       "    <tr>\n",
       "      <th>895</th>\n",
       "      <td>16.425584</td>\n",
       "      <td>-1.374769</td>\n",
       "      <td>-0.021869</td>\n",
       "      <td>1.517959</td>\n",
       "      <td>-1.159980</td>\n",
       "      <td>-0.355831</td>\n",
       "      <td>1.445412</td>\n",
       "      <td>-2.286946</td>\n",
       "      <td>-2.692751</td>\n",
       "      <td>2.111012</td>\n",
       "      <td>-2.720292</td>\n",
       "      <td>3.624956</td>\n",
       "    </tr>\n",
       "    <tr>\n",
       "      <th>896</th>\n",
       "      <td>16.475769</td>\n",
       "      <td>1.097820</td>\n",
       "      <td>-0.339193</td>\n",
       "      <td>0.892191</td>\n",
       "      <td>-2.285996</td>\n",
       "      <td>-0.551275</td>\n",
       "      <td>1.446789</td>\n",
       "      <td>-2.047695</td>\n",
       "      <td>-2.633222</td>\n",
       "      <td>2.079005</td>\n",
       "      <td>-2.768168</td>\n",
       "      <td>3.575783</td>\n",
       "    </tr>\n",
       "  </tbody>\n",
       "</table>\n",
       "<p>897 rows × 12 columns</p>\n",
       "</div>"
      ],
      "text/plain": [
       "          PCA1      PCA2      PCA3      PCA4      PCA5      PCA6      PCA7  \\\n",
       "0     7.526732  2.528351  0.773147  3.437613  1.327911 -2.428680  0.820319   \n",
       "1     7.521495 -1.426115  0.340728  1.463575 -1.459318 -1.430441  0.584557   \n",
       "2     7.418141 -0.577777  0.531004  1.442802 -1.787593 -1.100816  0.742307   \n",
       "3     7.420616 -1.407057  0.496943  1.526648 -1.515851 -1.382048  0.658876   \n",
       "4     7.275252 -1.417176  0.562064  1.434534 -1.491486 -1.507134  0.671099   \n",
       "..         ...       ...       ...       ...       ...       ...       ...   \n",
       "892  15.938336 -0.651294  0.580320  0.854994 -0.855431  0.078159  1.665143   \n",
       "893  16.039848  0.887400  0.040317  0.398763 -1.751729 -0.431849  1.526871   \n",
       "894  16.339106  2.400871 -0.244075  0.157404 -2.499612 -0.263411  1.602983   \n",
       "895  16.425584 -1.374769 -0.021869  1.517959 -1.159980 -0.355831  1.445412   \n",
       "896  16.475769  1.097820 -0.339193  0.892191 -2.285996 -0.551275  1.446789   \n",
       "\n",
       "         PCA8      PCA9     PCA10     PCA11  Close_lead1  \n",
       "0    0.374874 -0.818581  1.004893  0.126212     1.757365  \n",
       "1    0.153640 -0.966412  1.064126  0.144945     1.655003  \n",
       "2    0.217523 -0.988011  1.103149  0.173954     1.662028  \n",
       "3    0.086887 -0.964263  1.097465  0.189355     1.578734  \n",
       "4    0.109794 -0.976144  1.220289  0.250170     1.621886  \n",
       "..        ...       ...       ...       ...          ...  \n",
       "892 -1.911759 -2.601097  2.438954 -2.770145     3.553705  \n",
       "893 -1.781041 -2.526655  2.417591 -2.794210     3.624956  \n",
       "894 -1.790040 -2.565362  2.327169 -2.676955     3.689183  \n",
       "895 -2.286946 -2.692751  2.111012 -2.720292     3.624956  \n",
       "896 -2.047695 -2.633222  2.079005 -2.768168     3.575783  \n",
       "\n",
       "[897 rows x 12 columns]"
      ]
     },
     "execution_count": 33,
     "metadata": {},
     "output_type": "execute_result"
    }
   ],
   "source": [
    "finalDftest = pd.concat([principalDftest, df_test[['Close_lead1']].reset_index()['Close_lead1']], axis = 1)\n",
    "finalDftest"
   ]
  },
  {
   "cell_type": "markdown",
   "id": "0a02db55",
   "metadata": {},
   "source": [
    "We chose 11 principal components as it gives us 99% of the variance, as can be seen by the explained variance below:"
   ]
  },
  {
   "cell_type": "code",
   "execution_count": 34,
   "id": "13ae3346",
   "metadata": {},
   "outputs": [
    {
     "data": {
      "text/plain": [
       "array([0.77302035, 0.83153003, 0.86672719, 0.89518188, 0.92234895,\n",
       "       0.94367636, 0.95805469, 0.97195671, 0.98166948, 0.9889671 ,\n",
       "       0.99226796])"
      ]
     },
     "execution_count": 34,
     "metadata": {},
     "output_type": "execute_result"
    }
   ],
   "source": [
    "np.cumsum(pca.explained_variance_ratio_)"
   ]
  },
  {
   "cell_type": "markdown",
   "id": "998383c6",
   "metadata": {},
   "source": [
    "## Running the experiments"
   ]
  },
  {
   "cell_type": "markdown",
   "id": "b34815a7",
   "metadata": {},
   "source": [
    "We perform exactly the same experiments, just with the PCA data sets instead."
   ]
  },
  {
   "cell_type": "code",
   "execution_count": 35,
   "id": "7c64fd63",
   "metadata": {},
   "outputs": [
    {
     "name": "stdout",
     "output_type": "stream",
     "text": [
      "Features shape: torch.Size([1, 3, 11])\n",
      "Target shape: torch.Size([1])\n"
     ]
    }
   ],
   "source": [
    "torch.manual_seed(101)\n",
    "\n",
    "batch_size = 1\n",
    "sequence_length = 3\n",
    "\n",
    "train_dataset = SequenceDataset(\n",
    "    finalDf,\n",
    "    target=target,\n",
    "    features=features_pca,\n",
    "    sequence_length=sequence_length\n",
    ")\n",
    "test_dataset = SequenceDataset(\n",
    "    finalDftest,\n",
    "    target=target,\n",
    "    features=features_pca,\n",
    "    sequence_length=sequence_length\n",
    ")\n",
    "\n",
    "train_loader = DataLoader(train_dataset, batch_size=batch_size, shuffle=True)\n",
    "test_loader = DataLoader(test_dataset, batch_size=batch_size, shuffle=False)\n",
    "\n",
    "X, y = next(iter(train_loader))\n",
    "\n",
    "print(\"Features shape:\", X.shape)\n",
    "print(\"Target shape:\", y.shape)"
   ]
  },
  {
   "cell_type": "code",
   "execution_count": 36,
   "id": "ac11c39b",
   "metadata": {},
   "outputs": [],
   "source": [
    "learning_rate = 0.0001\n",
    "num_hidden_units = 16\n",
    "\n",
    "model_pca = ShallowRegressionLSTM(num_sensors=n_comps, hidden_units=num_hidden_units)\n",
    "loss_function = nn.MSELoss()\n",
    "optimizer_pca = torch.optim.Adam(model_pca.parameters(), lr=learning_rate)"
   ]
  },
  {
   "cell_type": "code",
   "execution_count": 37,
   "id": "4d883067",
   "metadata": {},
   "outputs": [
    {
     "name": "stdout",
     "output_type": "stream",
     "text": [
      "Untrained test\n",
      "--------\n",
      "Test loss: 7.022064336931692\n",
      "\n",
      "Epoch 0\n",
      "---------\n",
      "Train loss: 0.31993387353356073\n",
      "Test loss: 3.7996339812591566\n",
      "\n",
      "Epoch 1\n",
      "---------\n",
      "Train loss: 0.04125597480712646\n",
      "Test loss: 2.6993803630841007\n",
      "\n",
      "Epoch 2\n",
      "---------\n",
      "Train loss: 0.017943491084326378\n",
      "Test loss: 2.2454205210187403\n",
      "\n",
      "Epoch 3\n",
      "---------\n",
      "Train loss: 0.01136803214088339\n",
      "Test loss: 1.9693376669137739\n",
      "\n",
      "Epoch 4\n",
      "---------\n",
      "Train loss: 0.009110032441465979\n",
      "Test loss: 1.8868859949227021\n",
      "\n",
      "Epoch 5\n",
      "---------\n",
      "Train loss: 0.008168994946817481\n",
      "Test loss: 1.76645952339342\n",
      "\n",
      "Epoch 6\n",
      "---------\n",
      "Train loss: 0.00747635832747152\n",
      "Test loss: 1.6717102544987883\n",
      "\n",
      "Epoch 7\n",
      "---------\n",
      "Train loss: 0.006939394065037635\n",
      "Test loss: 1.604602807252237\n",
      "\n",
      "Epoch 8\n",
      "---------\n",
      "Train loss: 0.0065861156709788645\n",
      "Test loss: 1.560651785690143\n",
      "\n",
      "Epoch 9\n",
      "---------\n",
      "Train loss: 0.006286196828763525\n",
      "Test loss: 1.4656273725719386\n",
      "\n",
      "Epoch 10\n",
      "---------\n",
      "Train loss: 0.005921941849450901\n",
      "Test loss: 1.3770761926933097\n",
      "\n",
      "Epoch 11\n",
      "---------\n",
      "Train loss: 0.005715993222207047\n",
      "Test loss: 1.3556364112681798\n",
      "\n",
      "Epoch 12\n",
      "---------\n",
      "Train loss: 0.005484473874653585\n",
      "Test loss: 1.2866262944093927\n",
      "\n",
      "Epoch 13\n",
      "---------\n",
      "Train loss: 0.005283614139776311\n",
      "Test loss: 1.2321101569500832\n",
      "\n",
      "Epoch 14\n",
      "---------\n",
      "Train loss: 0.005100699981342581\n",
      "Test loss: 1.2430834075802677\n",
      "\n",
      "Epoch 15\n",
      "---------\n",
      "Train loss: 0.004946921668139365\n",
      "Test loss: 1.1887347330149982\n",
      "\n",
      "Epoch 16\n",
      "---------\n",
      "Train loss: 0.004818473563074049\n",
      "Test loss: 1.1145987286768548\n",
      "\n",
      "Epoch 17\n",
      "---------\n",
      "Train loss: 0.004676555043532171\n",
      "Test loss: 1.0477935825108782\n",
      "\n",
      "Epoch 18\n",
      "---------\n",
      "Train loss: 0.004529555887239068\n",
      "Test loss: 1.0316934931091006\n",
      "\n",
      "Epoch 19\n",
      "---------\n",
      "Train loss: 0.0043954194631215535\n",
      "Test loss: 0.9972535884252078\n",
      "\n"
     ]
    }
   ],
   "source": [
    "classical_loss_train_pca = []\n",
    "classical_loss_test_pca = []\n",
    "print(\"Untrained test\\n--------\")\n",
    "test_loss = test_model(test_loader, model_pca, loss_function)\n",
    "print()\n",
    "classical_loss_test_pca.append(test_loss)\n",
    "\n",
    "for ix_epoch in range(20):\n",
    "    print(f\"Epoch {ix_epoch}\\n---------\")\n",
    "    train_loss = train_model(train_loader, model_pca, loss_function, optimizer=optimizer_pca)\n",
    "    test_loss = test_model(test_loader, model_pca, loss_function)\n",
    "    print()\n",
    "    classical_loss_train_pca.append(train_loss)\n",
    "    classical_loss_test_pca.append(test_loss)"
   ]
  },
  {
   "cell_type": "code",
   "execution_count": 55,
   "id": "5f8a86af",
   "metadata": {},
   "outputs": [
    {
     "name": "stdout",
     "output_type": "stream",
     "text": [
      "     Close_lead1  Model forecast PCA\n",
      "0      31.440840           30.544971\n",
      "1      31.183207           30.714785\n",
      "2      31.364504           30.704145\n",
      "3      30.839695           30.820631\n",
      "4      30.944656           30.767685\n",
      "..           ...                 ...\n",
      "892    77.814888           64.085854\n",
      "893    78.492363           64.257584\n",
      "894    79.103050           64.525505\n",
      "895    78.492363           64.308098\n",
      "896    78.024811           64.575188\n",
      "\n",
      "[2718 rows x 2 columns]\n"
     ]
    }
   ],
   "source": [
    "train_eval_loader = DataLoader(train_dataset, batch_size=batch_size, shuffle=False)\n",
    "\n",
    "ystar_col_pca = \"Model forecast PCA\"\n",
    "finalDf[ystar_col_pca] = predict(train_eval_loader, model_pca).numpy()\n",
    "finalDftest[ystar_col_pca] = predict(test_loader, model_pca).numpy()\n",
    "\n",
    "df_out_pca = pd.concat((finalDf, finalDftest))[[target, ystar_col_pca]]\n",
    "\n",
    "for c in df_out_pca.columns:\n",
    "    df_out_pca[c] = df_out_pca[c] * target_stdev + target_mean\n",
    "\n",
    "print(df_out_pca)"
   ]
  },
  {
   "cell_type": "code",
   "execution_count": 56,
   "id": "0ee1dfef",
   "metadata": {},
   "outputs": [
    {
     "data": {
      "image/png": "[encoded data removed]",
      "text/plain": [
       "<Figure size 864x504 with 1 Axes>"
      ]
     },
     "metadata": {
      "needs_background": "light"
     },
     "output_type": "display_data"
    }
   ],
   "source": [
    "plt.figure(figsize=(12, 7))\n",
    "plt.plot(range(2718), df_out_pca[\"Close_lead1\"], label = \"Real\")\n",
    "plt.plot(range(2718), df_out_pca[\"Model forecast PCA\"], label = \"LSTM PCA Prediction\")\n",
    "plt.ylabel('Stock Price')\n",
    "plt.xlabel('Days')\n",
    "plt.vlines(size, ymin = 30, ymax = 90, label = \"Test set start\", linestyles = \"dashed\")\n",
    "plt.legend()\n",
    "plt.show()"
   ]
  },
  {
   "cell_type": "code",
   "execution_count": 41,
   "id": "8f40b7a4",
   "metadata": {},
   "outputs": [
    {
     "data": {
      "image/png": "[encoded data removed]",
      "text/plain": [
       "<Figure size 576x432 with 1 Axes>"
      ]
     },
     "metadata": {
      "needs_background": "light"
     },
     "output_type": "display_data"
    }
   ],
   "source": [
    "plt.figure(figsize=(8, 6))\n",
    "plt.plot(range(21), classical_loss_test_pca)\n",
    "plt.ylabel('Test Loss')\n",
    "plt.xlabel('Epoch')\n",
    "plt.show()"
   ]
  },
  {
   "cell_type": "code",
   "execution_count": 42,
   "id": "41ebb3db",
   "metadata": {},
   "outputs": [
    {
     "data": {
      "image/png": "[encoded data removed]",
      "text/plain": [
       "<Figure size 576x432 with 1 Axes>"
      ]
     },
     "metadata": {
      "needs_background": "light"
     },
     "output_type": "display_data"
    }
   ],
   "source": [
    "plt.figure(figsize=(8, 6))\n",
    "plt.plot(range(1, 21), classical_loss_train_pca)\n",
    "plt.ylabel('Train Loss')\n",
    "plt.xlabel('Epoch')\n",
    "plt.show()"
   ]
  },
  {
   "cell_type": "code",
   "execution_count": 43,
   "id": "cbc42c2d",
   "metadata": {},
   "outputs": [
    {
     "name": "stdout",
     "output_type": "stream",
     "text": [
      "weight_shapes = (n_qlayers, n_vrotations, n_qubits) = (1, 3, 4)\n"
     ]
    }
   ],
   "source": [
    "learning_rate = 0.05\n",
    "num_hidden_units = 16\n",
    "\n",
    "Qmodel_pca = QShallowRegressionLSTM(num_sensors=n_comps, hidden_units=num_hidden_units, n_qubits=4)\n",
    "loss_function = nn.MSELoss()\n",
    "optimizer_pca = torch.optim.Adagrad(Qmodel_pca.parameters(), lr=learning_rate)"
   ]
  },
  {
   "cell_type": "code",
   "execution_count": 44,
   "id": "cb7525ae",
   "metadata": {},
   "outputs": [
    {
     "name": "stdout",
     "output_type": "stream",
     "text": [
      "Untrained test\n",
      "--------\n",
      "Test loss: 7.139100393689463\n",
      "Execution time 237.84466934204102\n",
      "Epoch 0\n",
      "---------\n",
      "Train loss: 0.024465833426847543\n",
      "Test loss: 1.356977468175249\n",
      "Execution time 991.764110326767\n",
      "Epoch 1\n",
      "---------\n",
      "Train loss: 0.00568339670043372\n",
      "Test loss: 1.1879749562581876\n",
      "Execution time 930.079999923706\n",
      "Epoch 2\n",
      "---------\n",
      "Train loss: 0.005110640633771888\n",
      "Test loss: 1.075524002659769\n",
      "Execution time 947.8514392375946\n",
      "Epoch 3\n",
      "---------\n",
      "Train loss: 0.004874556196084599\n",
      "Test loss: 1.0366191670233385\n",
      "Execution time 797.9036290645599\n",
      "Epoch 4\n",
      "---------\n",
      "Train loss: 0.004635447064590187\n",
      "Test loss: 0.9875080639972353\n",
      "Execution time 738.7102935314178\n",
      "Epoch 5\n",
      "---------\n",
      "Train loss: 0.004530481038471063\n",
      "Test loss: 0.9658239076031115\n",
      "Execution time 750.2042844295502\n",
      "Epoch 6\n",
      "---------\n",
      "Train loss: 0.004389406368724378\n",
      "Test loss: 0.9218093066883165\n",
      "Execution time 745.7449562549591\n",
      "Epoch 7\n",
      "---------\n",
      "Train loss: 0.004272199854488768\n",
      "Test loss: 0.901724463015398\n",
      "Execution time 741.9330332279205\n",
      "Epoch 8\n",
      "---------\n",
      "Train loss: 0.004201419737209595\n",
      "Test loss: 0.8549630583217372\n",
      "Execution time 740.0051896572113\n",
      "Epoch 9\n",
      "---------\n",
      "Train loss: 0.004117334718525918\n",
      "Test loss: 0.8289192844051984\n",
      "Execution time 759.2056052684784\n",
      "Epoch 10\n",
      "---------\n",
      "Train loss: 0.004110280105473251\n",
      "Test loss: 0.8157118547165509\n",
      "Execution time 738.2939002513885\n",
      "Epoch 11\n",
      "---------\n",
      "Train loss: 0.004061195046576385\n",
      "Test loss: 0.7964930156508624\n",
      "Execution time 739.8124845027924\n",
      "Epoch 12\n",
      "---------\n",
      "Train loss: 0.003998781866640691\n",
      "Test loss: 0.7716312544848316\n",
      "Execution time 740.9190919399261\n",
      "Epoch 13\n",
      "---------\n",
      "Train loss: 0.003974724586524652\n",
      "Test loss: 0.7631663761593076\n",
      "Execution time 738.2133328914642\n",
      "Epoch 14\n",
      "---------\n",
      "Train loss: 0.003916377808645146\n",
      "Test loss: 0.741922534987339\n",
      "Execution time 749.3131020069122\n",
      "Epoch 15\n",
      "---------\n",
      "Train loss: 0.003896312097986726\n",
      "Test loss: 0.711574564318001\n",
      "Execution time 743.053010225296\n",
      "Epoch 16\n",
      "---------\n",
      "Train loss: 0.0038608785286843744\n",
      "Test loss: 0.7152088378549902\n",
      "Execution time 738.999018907547\n",
      "Epoch 17\n",
      "---------\n",
      "Train loss: 0.0038368047157708385\n",
      "Test loss: 0.7083966044498275\n",
      "Execution time 737.5580358505249\n",
      "Epoch 18\n",
      "---------\n",
      "Train loss: 0.0038346862540994064\n",
      "Test loss: 0.6965674011475502\n",
      "Execution time 738.2180404663086\n",
      "Epoch 19\n",
      "---------\n",
      "Train loss: 0.0037870039666298675\n",
      "Test loss: 0.6668927626618946\n",
      "Execution time 731.5249602794647\n"
     ]
    }
   ],
   "source": [
    "quantum_loss_train_pca = []\n",
    "quantum_loss_test_pca = []\n",
    "print(\"Untrained test\\n--------\")\n",
    "start = time.time()\n",
    "test_loss = test_model(test_loader, Qmodel_pca, loss_function)\n",
    "end = time.time()\n",
    "print(\"Execution time\", end - start)\n",
    "quantum_loss_test_pca.append(test_loss)\n",
    "\n",
    "for ix_epoch in range(20):\n",
    "    print(f\"Epoch {ix_epoch}\\n---------\")\n",
    "    start = time.time()\n",
    "    train_loss = train_model(train_loader, Qmodel_pca, loss_function, optimizer=optimizer_pca)\n",
    "    test_loss = test_model(test_loader, Qmodel_pca, loss_function)\n",
    "    end = time.time()\n",
    "    print(\"Execution time\", end - start)\n",
    "    quantum_loss_train_pca.append(train_loss)\n",
    "    quantum_loss_test_pca.append(test_loss)"
   ]
  },
  {
   "cell_type": "code",
   "execution_count": 47,
   "id": "f81348a0",
   "metadata": {},
   "outputs": [
    {
     "name": "stdout",
     "output_type": "stream",
     "text": [
      "     Close_lead1  Model forecast PCA Q\n",
      "0      31.440840             30.579021\n",
      "1      31.183207             30.976349\n",
      "2      31.364504             30.902241\n",
      "3      30.839695             31.072792\n",
      "4      30.944656             30.837957\n",
      "..           ...                   ...\n",
      "892    77.814888             66.848930\n",
      "893    78.492363             66.884842\n",
      "894    79.103050             66.934006\n",
      "895    78.492363             66.968979\n",
      "896    78.024811             66.985756\n",
      "\n",
      "[2718 rows x 2 columns]\n"
     ]
    }
   ],
   "source": [
    "train_eval_loader = DataLoader(train_dataset, batch_size=batch_size, shuffle=False)\n",
    "\n",
    "ystar_col_Q_pca = \"Model forecast PCA Q\"\n",
    "finalDf[ystar_col_Q_pca] = predict(train_eval_loader, Qmodel_pca).numpy()\n",
    "finalDftest[ystar_col_Q_pca] = predict(test_loader, Qmodel_pca).numpy()\n",
    "\n",
    "df_out_Q_pca = pd.concat((finalDf, finalDftest))[[target, ystar_col_Q_pca]]\n",
    "\n",
    "for c in df_out_Q_pca.columns:\n",
    "    df_out_Q_pca[c] = df_out_Q_pca[c] * target_stdev + target_mean\n",
    "\n",
    "print(df_out_Q_pca)"
   ]
  },
  {
   "cell_type": "code",
   "execution_count": 48,
   "id": "088b783b",
   "metadata": {},
   "outputs": [
    {
     "data": {
      "image/png": "[encoded data removed]",
      "text/plain": [
       "<Figure size 864x504 with 1 Axes>"
      ]
     },
     "metadata": {
      "needs_background": "light"
     },
     "output_type": "display_data"
    }
   ],
   "source": [
    "plt.figure(figsize=(12, 7))\n",
    "plt.plot(range(2718), df_out_Q_pca[\"Close_lead1\"], label = \"Real\")\n",
    "plt.plot(range(2718), df_out_Q_pca[\"Model forecast PCA Q\"], label = \"QLSTM PCA Prediction\")\n",
    "plt.ylabel('Stock Price')\n",
    "plt.xlabel('Days')\n",
    "plt.vlines(size, ymin = 30, ymax = 90, label = \"Test set start\", linestyles = \"dashed\")\n",
    "plt.legend()\n",
    "plt.show()"
   ]
  },
  {
   "cell_type": "code",
   "execution_count": 49,
   "id": "d4f60723",
   "metadata": {},
   "outputs": [
    {
     "data": {
      "image/png": "[encoded data removed]",
      "text/plain": [
       "<Figure size 576x432 with 1 Axes>"
      ]
     },
     "metadata": {
      "needs_background": "light"
     },
     "output_type": "display_data"
    }
   ],
   "source": [
    "plt.figure(figsize=(8, 6))\n",
    "plt.plot(range(21), quantum_loss_test_pca)\n",
    "plt.ylabel('Test Loss')\n",
    "plt.xlabel('Epoch')\n",
    "plt.show()"
   ]
  },
  {
   "cell_type": "code",
   "execution_count": 50,
   "id": "04f28635",
   "metadata": {},
   "outputs": [
    {
     "data": {
      "image/png": "[encoded data removed]",
      "text/plain": [
       "<Figure size 576x432 with 1 Axes>"
      ]
     },
     "metadata": {
      "needs_background": "light"
     },
     "output_type": "display_data"
    }
   ],
   "source": [
    "plt.figure(figsize=(8, 6))\n",
    "plt.plot(range(1,21), quantum_loss_train_pca)\n",
    "plt.ylabel('Test Loss')\n",
    "plt.xlabel('Epoch')\n",
    "plt.show()"
   ]
  },
  {
   "cell_type": "markdown",
   "id": "055f1d38",
   "metadata": {},
   "source": [
    "# Comparison between Classical LSTM and QLSTM"
   ]
  },
  {
   "cell_type": "markdown",
   "id": "cab69cd9",
   "metadata": {},
   "source": [
    "Now that we have trained both models and seen some preliminary results on both of them, we want to properly compare the results on the same graph to see how they perform against each other. To do so, we compare them in the following manner:\n",
    "\n",
    "- Compare the predictions of the models\n",
    "- Compare the loss per epoch for both training and test loss\n",
    "- Discuss Complexity analysis, and compare number of parameters"
   ]
  },
  {
   "cell_type": "markdown",
   "id": "15acb73b",
   "metadata": {},
   "source": [
    "## Predictions of the models"
   ]
  },
  {
   "cell_type": "code",
   "execution_count": 57,
   "id": "abca409f",
   "metadata": {},
   "outputs": [
    {
     "data": {
      "image/png": "[encoded data removed]",
      "text/plain": [
       "<Figure size 864x504 with 1 Axes>"
      ]
     },
     "metadata": {
      "needs_background": "light"
     },
     "output_type": "display_data"
    }
   ],
   "source": [
    "plt.figure(figsize=(12, 7))\n",
    "plt.plot(range(2718), df_out[\"Close_lead1\"], label = \"Real\")\n",
    "plt.plot(range(2718), df_out[\"Model forecast\"], label = \"LSTM\")\n",
    "plt.plot(range(2718), df_out_pca[\"Model forecast PCA\"], label = \"LSTM PCA\")\n",
    "plt.plot(range(2718), df_out_Q[\"Model forecast\"], label = \"QLSTM\")\n",
    "plt.plot(range(2718), df_out_Q_pca[\"Model forecast PCA Q\"], label = \"QLSTM PCA\")\n",
    "plt.ylabel('Stock Price')\n",
    "plt.xlabel('Days')\n",
    "plt.vlines(size, ymin = 30, ymax = 90, label = \"Test set start\", linestyles = \"dashed\")\n",
    "plt.legend()\n",
    "plt.show()"
   ]
  },
  {
   "cell_type": "markdown",
   "id": "8d24cc47",
   "metadata": {},
   "source": [
    "## Train loss"
   ]
  },
  {
   "cell_type": "code",
   "execution_count": 53,
   "id": "7701d986",
   "metadata": {},
   "outputs": [
    {
     "data": {
      "image/png": "[encoded data removed]",
      "text/plain": [
       "<Figure size 576x432 with 1 Axes>"
      ]
     },
     "metadata": {
      "needs_background": "light"
     },
     "output_type": "display_data"
    }
   ],
   "source": [
    "plt.figure(figsize=(8, 6))\n",
    "plt.plot(range(1,21), classical_loss_train, label = \"LSTM\")\n",
    "plt.plot(range(1,21), quantum_loss_train, label = \"QLSTM\")\n",
    "plt.plot(range(1,21), classical_loss_train_pca, label = \"LSTM PCA\")\n",
    "plt.plot(range(1,21), quantum_loss_train_pca, label = \"QLSTM PCA\")\n",
    "plt.ylabel('Train Loss')\n",
    "plt.xlabel('Epoch')\n",
    "plt.legend()\n",
    "plt.show()"
   ]
  },
  {
   "cell_type": "markdown",
   "id": "b9d8fbb5",
   "metadata": {},
   "source": [
    "## Test Loss"
   ]
  },
  {
   "cell_type": "code",
   "execution_count": 54,
   "id": "947dba45",
   "metadata": {},
   "outputs": [
    {
     "data": {
      "image/png": "[encoded data removed]",
      "text/plain": [
       "<Figure size 864x504 with 1 Axes>"
      ]
     },
     "metadata": {
      "needs_background": "light"
     },
     "output_type": "display_data"
    }
   ],
   "source": [
    "plt.figure(figsize=(12, 7))\n",
    "plt.plot(range(21), classical_loss_test, label = \"LSTM\")\n",
    "plt.plot(range(21), quantum_loss_test, label = \"QLSTM\")\n",
    "plt.plot(range(21), classical_loss_test_pca, label = \"LSTM PCA\")\n",
    "plt.plot(range(21), quantum_loss_test_pca, label = \"QLSTM PCA\")\n",
    "plt.ylabel('Test Loss')\n",
    "plt.xlabel('Epoch')\n",
    "plt.legend()\n",
    "plt.show()"
   ]
  },
  {
   "cell_type": "markdown",
   "id": "515841ce",
   "metadata": {},
   "source": [
    "## Number of parameters used"
   ]
  },
  {
   "cell_type": "code",
   "execution_count": 65,
   "id": "3dbc90c0",
   "metadata": {},
   "outputs": [],
   "source": [
    "def count_parameters(m):\n",
    "    return sum(p.numel() for p in m.parameters() if p.requires_grad)"
   ]
  },
  {
   "cell_type": "code",
   "execution_count": 66,
   "id": "aa1eebcc",
   "metadata": {},
   "outputs": [
    {
     "data": {
      "text/plain": [
       "3217"
      ]
     },
     "execution_count": 66,
     "metadata": {},
     "output_type": "execute_result"
    }
   ],
   "source": [
    "count_parameters(model)"
   ]
  },
  {
   "cell_type": "code",
   "execution_count": 67,
   "id": "8985dadb",
   "metadata": {},
   "outputs": [
    {
     "data": {
      "text/plain": [
       "293"
      ]
     },
     "execution_count": 67,
     "metadata": {},
     "output_type": "execute_result"
    }
   ],
   "source": [
    "count_parameters(Qmodel)"
   ]
  },
  {
   "cell_type": "code",
   "execution_count": 68,
   "id": "e9b138d5",
   "metadata": {},
   "outputs": [
    {
     "data": {
      "text/plain": [
       "1873"
      ]
     },
     "execution_count": 68,
     "metadata": {},
     "output_type": "execute_result"
    }
   ],
   "source": [
    "count_parameters(model_pca)"
   ]
  },
  {
   "cell_type": "code",
   "execution_count": 69,
   "id": "5a361d7f",
   "metadata": {},
   "outputs": [
    {
     "data": {
      "text/plain": [
       "209"
      ]
     },
     "execution_count": 69,
     "metadata": {},
     "output_type": "execute_result"
    }
   ],
   "source": [
    "count_parameters(Qmodel_pca)"
   ]
  },
  {
   "cell_type": "markdown",
   "id": "072a1f21",
   "metadata": {},
   "source": [
    "## Complexity analysis"
   ]
  },
  {
   "cell_type": "markdown",
   "id": "9e60edef",
   "metadata": {},
   "source": [
    "As a last point of comparison, we want to discuss the complexity analysis for the QLSTM, as well as compare the number of parameters used for the LSTM and the QLSTM.\n",
    "\n",
    "Given that we would want to eventually use the QLSTM on real quantum computers, it would be prudent to discuss its viability in terms of the number of gates and qubits used. First of all, we look at the number of qubits. As can be seen, in a barebones early version of QLSTM, we can afford to use any number of qubits, even a small number like 4 to run it. This is because we can sandwich it between two classical layers, where the classical layers help to convert the vector sizes to the correct amount, from the embedding of input features into the quantum circuit to the processing of the output measurements. This is very similar in idea to dressed quantum circuits, which was presented in:\n",
    "\n",
    "Transfer learning in hybrid classical-quantum neural networks: https://arxiv.org/abs/1912.08278, Andrea Mari, Thomas R. Bromley, Josh Izaac, Maria Schuld, Nathan Killoran\n",
    "\n",
    "In the foreseeable future in the NISQ era, we would likely be continuing to use the same technique, although the number of qubits can be increased to improve the model, making this technique useful in the NISQ era.\n",
    "\n",
    "For the number of gates used per circuit, we take a look at how the overall depth would increase as number of qubits and number of layers increases. As seen from the circuit above, the overall depth is $3 + n_l * (2 * n_q + 3)$, where $n_l, n_q$ refers to the number of layers and number of qubits respectively. Thus, the overall depth would increase linearly in both number of qubits and number of layers. What this also means is that the depth is quite easy to control, and extremely viable for the NISQ era. In this particular proof of example, we show that even when the number of layers is 1 (the smallest it can be) and the number of qubits is a small number, we still get pretty good results. \n"
   ]
  },
  {
   "cell_type": "markdown",
   "id": "0f526c77",
   "metadata": {},
   "source": [
    "# Conclusion and Future Outlook"
   ]
  },
  {
   "cell_type": "markdown",
   "id": "198269c2",
   "metadata": {},
   "source": [
    "In this notebook, we have given the proof of concept that QLSTM can be used to great effect for stock price prediction, offering comparable results than its classical counterpart, while needed much fewer parameters to train and getting more information per epoch. All in all, this shows that this technique has a lot of potential in the financial world and more, as anything time series related can be trained using an LSTM and hence also a QLSTM. This is relevant not only to stock price predictions, but also for example company sales predictions or other key performance predictions. However, there are still many areas for improvement."
   ]
  }
 ],
 "metadata": {
  "kernelspec": {
   "display_name": "Python 3 (ipykernel)",
   "language": "python",
   "name": "python3"
  },
  "language_info": {
   "codemirror_mode": {
    "name": "ipython",
    "version": 3
   },
   "file_extension": ".py",
   "mimetype": "text/x-python",
   "name": "python",
   "nbconvert_exporter": "python",
   "pygments_lexer": "ipython3",
   "version": "3.9.12"
  }
 },
 "nbformat": 4,
 "nbformat_minor": 5
}
